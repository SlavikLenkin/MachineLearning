{
 "cells": [
  {
   "cell_type": "markdown",
   "metadata": {},
   "source": [
    "**Лабораторная работа №1**"
   ]
  },
  {
   "cell_type": "code",
   "execution_count": 1,
   "metadata": {},
   "outputs": [],
   "source": [
    "import numpy as np # Массивы (матрицы, векторы, линейная алгебра)\n",
    "import matplotlib.pyplot as plt # Научная графика\n",
    "%matplotlib inline\n",
    "    # Говорим jupyter'у, чтобы весь графический вывод был в браузере, а не в отдельном окне\n",
    "import pandas as pd             # Таблицы и временные ряды (dataframe, series)\n",
    "import seaborn as sns           # Еще больше красивой графики для визуализации данных\n",
    "import sklearn                  # Алгоритмы машинного обучения\n",
    "plt.style.use('default')"
   ]
  },
  {
   "cell_type": "markdown",
   "metadata": {},
   "source": [
    "**Описание задачи:**\n",
    "\n",
    " Данными для задачи является набор объявлений о продаже 51783  автомобилей Ford на территории США в районе Айовы. Данные собранны в декабре 2018 года и  взяты с сайиа Cars.com.\n",
    " \n",
    " Постановка задачи:\n",
    " \n",
    " С помощью методов машинного обучения, научить модель определять drivetrain - тип трансмиссии.\n",
    " \n",
    "  \n",
    "**Типы трансмисии:**\n",
    "\n",
    "4WD - \n",
    "\n",
    "FWD -\n",
    "\n",
    "RWD -\n",
    "\n",
    "AWD -\n",
    "\n",
    "Four Wheel Drive -\n",
    "\n"
   ]
  },
  {
   "cell_type": "markdown",
   "metadata": {},
   "source": [
    "**Загружаем данные:**"
   ]
  },
  {
   "cell_type": "code",
   "execution_count": 2,
   "metadata": {},
   "outputs": [],
   "source": [
    "url = \"https://raw.githubusercontent.com/SlavikLenkin/MachineLearning/main/carData.csv\"\n",
    "full_data = pd.read_csv(url)# Читаем данные"
   ]
  },
  {
   "cell_type": "code",
   "execution_count": 3,
   "metadata": {},
   "outputs": [
    {
     "data": {
      "text/plain": [
       "(51783, 13)"
      ]
     },
     "execution_count": 3,
     "metadata": {},
     "output_type": "execute_result"
    }
   ],
   "source": [
    "full_data.shape "
   ]
  },
  {
   "cell_type": "markdown",
   "metadata": {},
   "source": [
    "Отображаем первые строки таблицы (по умолчанию 5):"
   ]
  },
  {
   "cell_type": "code",
   "execution_count": 4,
   "metadata": {},
   "outputs": [
    {
     "data": {
      "text/html": [
       "<div>\n",
       "<style scoped>\n",
       "    .dataframe tbody tr th:only-of-type {\n",
       "        vertical-align: middle;\n",
       "    }\n",
       "\n",
       "    .dataframe tbody tr th {\n",
       "        vertical-align: top;\n",
       "    }\n",
       "\n",
       "    .dataframe thead th {\n",
       "        text-align: right;\n",
       "    }\n",
       "</style>\n",
       "<table border=\"1\" class=\"dataframe\">\n",
       "  <thead>\n",
       "    <tr style=\"text-align: right;\">\n",
       "      <th></th>\n",
       "      <th>price</th>\n",
       "      <th>miles</th>\n",
       "      <th>fuel_type</th>\n",
       "      <th>exterior_color</th>\n",
       "      <th>interior_color</th>\n",
       "      <th>drivetrain</th>\n",
       "      <th>transmission</th>\n",
       "      <th>engine</th>\n",
       "      <th>VIN</th>\n",
       "      <th>name</th>\n",
       "      <th>sellerAddress</th>\n",
       "      <th>id</th>\n",
       "      <th>modelName</th>\n",
       "    </tr>\n",
       "  </thead>\n",
       "  <tbody>\n",
       "    <tr>\n",
       "      <th>0</th>\n",
       "      <td>$25,290</td>\n",
       "      <td>6 miles</td>\n",
       "      <td>Hybrid</td>\n",
       "      <td>Oxford White</td>\n",
       "      <td>Charcoal Black</td>\n",
       "      <td>FWD</td>\n",
       "      <td>CVT</td>\n",
       "      <td>4 Cylinder</td>\n",
       "      <td>1FADP5AU6JL100444</td>\n",
       "      <td>New 2018 Ford C-Max Hybrid SE</td>\n",
       "      <td>2406 N Jefferson Way, Indianola, IA 50125</td>\n",
       "      <td>719242528</td>\n",
       "      <td>C-Max Hybrid</td>\n",
       "    </tr>\n",
       "    <tr>\n",
       "      <th>1</th>\n",
       "      <td>$12,988</td>\n",
       "      <td>51,713 miles</td>\n",
       "      <td>Hybrid</td>\n",
       "      <td>Gray</td>\n",
       "      <td>Charcoal Black</td>\n",
       "      <td>FWD</td>\n",
       "      <td>Automatic CVT</td>\n",
       "      <td>2.0L I4 16V MPFI DOHC Hybrid</td>\n",
       "      <td>1FADP5BUXDL528553</td>\n",
       "      <td>Used 2013 Ford C-Max Hybrid SEL</td>\n",
       "      <td>2020 W 20th St S, Newton, IA 50208</td>\n",
       "      <td>753737631</td>\n",
       "      <td>C-Max Hybrid</td>\n",
       "    </tr>\n",
       "    <tr>\n",
       "      <th>2</th>\n",
       "      <td>$25,995</td>\n",
       "      <td>10 miles</td>\n",
       "      <td>Hybrid</td>\n",
       "      <td>White</td>\n",
       "      <td>Black</td>\n",
       "      <td>FWD</td>\n",
       "      <td>Automatic CVT</td>\n",
       "      <td>2.0L I4 16V MPFI DOHC Hybrid</td>\n",
       "      <td>1FADP5BU7GL115512</td>\n",
       "      <td>New 2016 Ford C-Max Hybrid SEL</td>\n",
       "      <td>916 W St S, Grinnell, IA 50112</td>\n",
       "      <td>675439230</td>\n",
       "      <td>C-Max Hybrid</td>\n",
       "    </tr>\n",
       "    <tr>\n",
       "      <th>3</th>\n",
       "      <td>$20,225</td>\n",
       "      <td>2,022 miles</td>\n",
       "      <td>Hybrid</td>\n",
       "      <td>Magnetic Metallic</td>\n",
       "      <td>Charcoal Black</td>\n",
       "      <td>FWD</td>\n",
       "      <td>Automatic CVT</td>\n",
       "      <td>2.0L I4 16V MPFI DOHC Hybrid</td>\n",
       "      <td>1FADP5AUXJL105758</td>\n",
       "      <td>New 2018 Ford C-Max Hybrid SE</td>\n",
       "      <td>600 Brooks Rd, Iowa Falls, IA 50126</td>\n",
       "      <td>738620869</td>\n",
       "      <td>C-Max Hybrid</td>\n",
       "    </tr>\n",
       "    <tr>\n",
       "      <th>4</th>\n",
       "      <td>$9,413</td>\n",
       "      <td>48,164 miles</td>\n",
       "      <td>Hybrid</td>\n",
       "      <td>Oxford White</td>\n",
       "      <td>Medium Light Stone/Medium Dark Stone</td>\n",
       "      <td>FWD</td>\n",
       "      <td>AUTOMATIC</td>\n",
       "      <td>4 Cylinder Engine 2.0L</td>\n",
       "      <td>1FADP5AU3DL540626</td>\n",
       "      <td>Used 2013 Ford C-Max Hybrid SE</td>\n",
       "      <td>215 15th St SW, Mason City, IA 50401</td>\n",
       "      <td>754880903</td>\n",
       "      <td>C-Max Hybrid</td>\n",
       "    </tr>\n",
       "  </tbody>\n",
       "</table>\n",
       "</div>"
      ],
      "text/plain": [
       "     price         miles fuel_type      exterior_color  \\\n",
       "0  $25,290       6 miles    Hybrid        Oxford White   \n",
       "1  $12,988  51,713 miles    Hybrid                Gray   \n",
       "2  $25,995      10 miles    Hybrid               White   \n",
       "3  $20,225   2,022 miles    Hybrid   Magnetic Metallic   \n",
       "4   $9,413  48,164 miles    Hybrid        Oxford White   \n",
       "\n",
       "                          interior_color drivetrain    transmission  \\\n",
       "0                         Charcoal Black        FWD             CVT   \n",
       "1                         Charcoal Black        FWD   Automatic CVT   \n",
       "2                                  Black        FWD   Automatic CVT   \n",
       "3                         Charcoal Black        FWD   Automatic CVT   \n",
       "4   Medium Light Stone/Medium Dark Stone        FWD       AUTOMATIC   \n",
       "\n",
       "                          engine                 VIN  \\\n",
       "0                     4 Cylinder   1FADP5AU6JL100444   \n",
       "1   2.0L I4 16V MPFI DOHC Hybrid   1FADP5BUXDL528553   \n",
       "2   2.0L I4 16V MPFI DOHC Hybrid   1FADP5BU7GL115512   \n",
       "3   2.0L I4 16V MPFI DOHC Hybrid   1FADP5AUXJL105758   \n",
       "4         4 Cylinder Engine 2.0L   1FADP5AU3DL540626   \n",
       "\n",
       "                              name                              sellerAddress  \\\n",
       "0    New 2018 Ford C-Max Hybrid SE  2406 N Jefferson Way, Indianola, IA 50125   \n",
       "1  Used 2013 Ford C-Max Hybrid SEL         2020 W 20th St S, Newton, IA 50208   \n",
       "2   New 2016 Ford C-Max Hybrid SEL             916 W St S, Grinnell, IA 50112   \n",
       "3    New 2018 Ford C-Max Hybrid SE        600 Brooks Rd, Iowa Falls, IA 50126   \n",
       "4   Used 2013 Ford C-Max Hybrid SE       215 15th St SW, Mason City, IA 50401   \n",
       "\n",
       "          id     modelName  \n",
       "0  719242528  C-Max Hybrid  \n",
       "1  753737631  C-Max Hybrid  \n",
       "2  675439230  C-Max Hybrid  \n",
       "3  738620869  C-Max Hybrid  \n",
       "4  754880903  C-Max Hybrid  "
      ]
     },
     "execution_count": 4,
     "metadata": {},
     "output_type": "execute_result"
    }
   ],
   "source": [
    "full_data.head()"
   ]
  },
  {
   "cell_type": "markdown",
   "metadata": {},
   "source": [
    "Отображаем последние строки таблицы (по умолчанию 5):"
   ]
  },
  {
   "cell_type": "code",
   "execution_count": 5,
   "metadata": {},
   "outputs": [
    {
     "data": {
      "text/html": [
       "<div>\n",
       "<style scoped>\n",
       "    .dataframe tbody tr th:only-of-type {\n",
       "        vertical-align: middle;\n",
       "    }\n",
       "\n",
       "    .dataframe tbody tr th {\n",
       "        vertical-align: top;\n",
       "    }\n",
       "\n",
       "    .dataframe thead th {\n",
       "        text-align: right;\n",
       "    }\n",
       "</style>\n",
       "<table border=\"1\" class=\"dataframe\">\n",
       "  <thead>\n",
       "    <tr style=\"text-align: right;\">\n",
       "      <th></th>\n",
       "      <th>price</th>\n",
       "      <th>miles</th>\n",
       "      <th>fuel_type</th>\n",
       "      <th>exterior_color</th>\n",
       "      <th>interior_color</th>\n",
       "      <th>drivetrain</th>\n",
       "      <th>transmission</th>\n",
       "      <th>engine</th>\n",
       "      <th>VIN</th>\n",
       "      <th>name</th>\n",
       "      <th>sellerAddress</th>\n",
       "      <th>id</th>\n",
       "      <th>modelName</th>\n",
       "    </tr>\n",
       "  </thead>\n",
       "  <tbody>\n",
       "    <tr>\n",
       "      <th>51778</th>\n",
       "      <td>$54,793</td>\n",
       "      <td>NaN</td>\n",
       "      <td>Diesel</td>\n",
       "      <td>Shadow Black</td>\n",
       "      <td>Medium Earth Gray</td>\n",
       "      <td>4WD</td>\n",
       "      <td>6-Speed Automatic</td>\n",
       "      <td>6.7L V8 32V DDI OHV Turbo Diesel</td>\n",
       "      <td>1FT7W2BT9JEC40281</td>\n",
       "      <td>New 2018 Ford F-250 XLT</td>\n",
       "      <td>2860 S Noland Rd, Independence, MO 64055</td>\n",
       "      <td>751165085</td>\n",
       "      <td>F-250</td>\n",
       "    </tr>\n",
       "    <tr>\n",
       "      <th>51779</th>\n",
       "      <td>$64,711</td>\n",
       "      <td>NaN</td>\n",
       "      <td>Diesel</td>\n",
       "      <td>Magnetic</td>\n",
       "      <td>Black</td>\n",
       "      <td>4WD</td>\n",
       "      <td>6-Speed Automatic</td>\n",
       "      <td>6.7L V8 32V DDI OHV Turbo Diesel</td>\n",
       "      <td>1FT7W2BT5JEC07424</td>\n",
       "      <td>New 2018 Ford F-250 Lariat</td>\n",
       "      <td>2860 S Noland Rd, Independence, MO 64055</td>\n",
       "      <td>737236411</td>\n",
       "      <td>F-250</td>\n",
       "    </tr>\n",
       "    <tr>\n",
       "      <th>51780</th>\n",
       "      <td>$19,545</td>\n",
       "      <td>50,376 miles</td>\n",
       "      <td>E85 Flex Fuel</td>\n",
       "      <td>Oxford White</td>\n",
       "      <td>Steel</td>\n",
       "      <td>RWD</td>\n",
       "      <td>TorqShift 6-Speed Automatic</td>\n",
       "      <td>6.2L V8 EFI SOHC 16V Flex Fuel</td>\n",
       "      <td>1FDBF2A65DEB65326</td>\n",
       "      <td>Used 2013 Ford F-250 XL</td>\n",
       "      <td>2245 SW Topeka Blvd, Topeka, KS 66611</td>\n",
       "      <td>749747000</td>\n",
       "      <td>F-250</td>\n",
       "    </tr>\n",
       "    <tr>\n",
       "      <th>51781</th>\n",
       "      <td>$58,987</td>\n",
       "      <td>19,189 miles</td>\n",
       "      <td>Diesel</td>\n",
       "      <td>Ingot Silver Metallic</td>\n",
       "      <td>Black</td>\n",
       "      <td>4WD</td>\n",
       "      <td>TorqShift 6-Speed Automatic</td>\n",
       "      <td>Power Stroke 6.7L V8 DI 32V OHV Turbodiesel</td>\n",
       "      <td>1FT7W2BT9HEF37240</td>\n",
       "      <td>Used 2017 Ford F-250 Lariat</td>\n",
       "      <td>2245 SW Topeka Blvd, Topeka, KS 66611</td>\n",
       "      <td>756269741</td>\n",
       "      <td>F-250</td>\n",
       "    </tr>\n",
       "    <tr>\n",
       "      <th>51782</th>\n",
       "      <td>$22,987</td>\n",
       "      <td>106,446 miles</td>\n",
       "      <td>E85 Flex Fuel</td>\n",
       "      <td>Oxford White</td>\n",
       "      <td>Steel</td>\n",
       "      <td>4 WHEEL</td>\n",
       "      <td>AUTOMATIC</td>\n",
       "      <td>6.2L 8 CYL. FLEX FUEL</td>\n",
       "      <td>1FT7W2B69DEA17804</td>\n",
       "      <td>Used 2013 Ford F-250 XLT</td>\n",
       "      <td>1500 NW S Outer Rd, Blue Springs, MO 64015</td>\n",
       "      <td>756360809</td>\n",
       "      <td>F-250</td>\n",
       "    </tr>\n",
       "  </tbody>\n",
       "</table>\n",
       "</div>"
      ],
      "text/plain": [
       "         price          miles       fuel_type          exterior_color  \\\n",
       "51778  $54,793            NaN          Diesel            Shadow Black   \n",
       "51779  $64,711            NaN          Diesel                Magnetic   \n",
       "51780  $19,545   50,376 miles   E85 Flex Fuel            Oxford White   \n",
       "51781  $58,987   19,189 miles          Diesel   Ingot Silver Metallic   \n",
       "51782  $22,987  106,446 miles   E85 Flex Fuel            Oxford White   \n",
       "\n",
       "           interior_color drivetrain                  transmission  \\\n",
       "51778   Medium Earth Gray        4WD             6-Speed Automatic   \n",
       "51779               Black        4WD             6-Speed Automatic   \n",
       "51780               Steel        RWD   TorqShift 6-Speed Automatic   \n",
       "51781               Black        4WD   TorqShift 6-Speed Automatic   \n",
       "51782               Steel    4 WHEEL                     AUTOMATIC   \n",
       "\n",
       "                                             engine                 VIN  \\\n",
       "51778              6.7L V8 32V DDI OHV Turbo Diesel   1FT7W2BT9JEC40281   \n",
       "51779              6.7L V8 32V DDI OHV Turbo Diesel   1FT7W2BT5JEC07424   \n",
       "51780                6.2L V8 EFI SOHC 16V Flex Fuel   1FDBF2A65DEB65326   \n",
       "51781   Power Stroke 6.7L V8 DI 32V OHV Turbodiesel   1FT7W2BT9HEF37240   \n",
       "51782                         6.2L 8 CYL. FLEX FUEL   1FT7W2B69DEA17804   \n",
       "\n",
       "                              name  \\\n",
       "51778      New 2018 Ford F-250 XLT   \n",
       "51779   New 2018 Ford F-250 Lariat   \n",
       "51780      Used 2013 Ford F-250 XL   \n",
       "51781  Used 2017 Ford F-250 Lariat   \n",
       "51782     Used 2013 Ford F-250 XLT   \n",
       "\n",
       "                                    sellerAddress         id modelName  \n",
       "51778    2860 S Noland Rd, Independence, MO 64055  751165085     F-250  \n",
       "51779    2860 S Noland Rd, Independence, MO 64055  737236411     F-250  \n",
       "51780       2245 SW Topeka Blvd, Topeka, KS 66611  749747000     F-250  \n",
       "51781       2245 SW Topeka Blvd, Topeka, KS 66611  756269741     F-250  \n",
       "51782  1500 NW S Outer Rd, Blue Springs, MO 64015  756360809     F-250  "
      ]
     },
     "execution_count": 5,
     "metadata": {},
     "output_type": "execute_result"
    }
   ],
   "source": [
    "full_data.tail()"
   ]
  },
  {
   "cell_type": "markdown",
   "metadata": {},
   "source": [
    "**Обзор данных и их типов:**\n",
    "1. price - цена автомобиля,количественный\n",
    "2. miles - пробег,количественный\n",
    "3. fuel_type - тип топлива,номинальный\n",
    "4. exterior_color - цвет кузова,номинальный\n",
    "5. interior_color - цвет салона,номинальный\n",
    "6. drivetrain - тип трансмиссии,номинальный\n",
    "7. transmission - тип коробки передач,номинальный\n",
    "8. engine - тип дивигателя,номинальный\n",
    "9. VIN - уникальный идентификационный номер машины,номинальный\n",
    "10. name - названи машины,номинальный\n",
    "11. sellerAddress - адресс продавца,номинальный\n",
    "12. id - уникальный номер объявления,номинальный\n",
    "13. modelName - название модели,номинальный\n",
    "\n"
   ]
  },
  {
   "cell_type": "code",
   "execution_count": 6,
   "metadata": {},
   "outputs": [
    {
     "data": {
      "text/plain": [
       "Index(['price', 'miles', 'fuel_type', 'exterior_color', 'interior_color',\n",
       "       'drivetrain', 'transmission', 'engine', 'VIN', 'name', 'sellerAddress',\n",
       "       'id', 'modelName'],\n",
       "      dtype='object')"
      ]
     },
     "execution_count": 6,
     "metadata": {},
     "output_type": "execute_result"
    }
   ],
   "source": [
    "full_data.columns"
   ]
  },
  {
   "cell_type": "markdown",
   "metadata": {},
   "source": [
    "**Диапазоны индексов:**"
   ]
  },
  {
   "cell_type": "code",
   "execution_count": 7,
   "metadata": {},
   "outputs": [
    {
     "data": {
      "text/plain": [
       "RangeIndex(start=0, stop=51783, step=1)"
      ]
     },
     "execution_count": 7,
     "metadata": {},
     "output_type": "execute_result"
    }
   ],
   "source": [
    "full_data.index"
   ]
  },
  {
   "cell_type": "markdown",
   "metadata": {},
   "source": [
    "**Достпук к отдельным элементам и выделение подтаблиц(slice):**"
   ]
  },
  {
   "cell_type": "code",
   "execution_count": 8,
   "metadata": {},
   "outputs": [
    {
     "data": {
      "text/plain": [
       "' Hybrid'"
      ]
     },
     "execution_count": 8,
     "metadata": {},
     "output_type": "execute_result"
    }
   ],
   "source": [
    "full_data.at[3, 'fuel_type']"
   ]
  },
  {
   "cell_type": "code",
   "execution_count": 9,
   "metadata": {},
   "outputs": [
    {
     "data": {
      "text/plain": [
       "' Hybrid'"
      ]
     },
     "execution_count": 9,
     "metadata": {},
     "output_type": "execute_result"
    }
   ],
   "source": [
    "full_data.loc[3, 'fuel_type']"
   ]
  },
  {
   "cell_type": "code",
   "execution_count": 10,
   "metadata": {},
   "outputs": [
    {
     "data": {
      "text/plain": [
       "' Hybrid'"
      ]
     },
     "execution_count": 10,
     "metadata": {},
     "output_type": "execute_result"
    }
   ],
   "source": [
    "full_data.iat[3, 2]"
   ]
  },
  {
   "cell_type": "code",
   "execution_count": 11,
   "metadata": {},
   "outputs": [
    {
     "data": {
      "text/plain": [
       "' Hybrid'"
      ]
     },
     "execution_count": 11,
     "metadata": {},
     "output_type": "execute_result"
    }
   ],
   "source": [
    "full_data.iloc[3, 2]"
   ]
  },
  {
   "cell_type": "markdown",
   "metadata": {},
   "source": [
    "**Подтаблицы:**"
   ]
  },
  {
   "cell_type": "code",
   "execution_count": 12,
   "metadata": {},
   "outputs": [
    {
     "data": {
      "text/html": [
       "<div>\n",
       "<style scoped>\n",
       "    .dataframe tbody tr th:only-of-type {\n",
       "        vertical-align: middle;\n",
       "    }\n",
       "\n",
       "    .dataframe tbody tr th {\n",
       "        vertical-align: top;\n",
       "    }\n",
       "\n",
       "    .dataframe thead th {\n",
       "        text-align: right;\n",
       "    }\n",
       "</style>\n",
       "<table border=\"1\" class=\"dataframe\">\n",
       "  <thead>\n",
       "    <tr style=\"text-align: right;\">\n",
       "      <th></th>\n",
       "      <th>fuel_type</th>\n",
       "      <th>engine</th>\n",
       "      <th>transmission</th>\n",
       "    </tr>\n",
       "  </thead>\n",
       "  <tbody>\n",
       "    <tr>\n",
       "      <th>13</th>\n",
       "      <td>Hybrid</td>\n",
       "      <td>I4 Hybrid</td>\n",
       "      <td>CVT</td>\n",
       "    </tr>\n",
       "    <tr>\n",
       "      <th>123</th>\n",
       "      <td>Gasoline</td>\n",
       "      <td>4.0L V6</td>\n",
       "      <td>Automatic 4-Speed</td>\n",
       "    </tr>\n",
       "    <tr>\n",
       "      <th>414</th>\n",
       "      <td>Gasoline</td>\n",
       "      <td>Regular Unleaded V-8 5.0 L/302</td>\n",
       "      <td>10-Speed Automatic w/OD</td>\n",
       "    </tr>\n",
       "    <tr>\n",
       "      <th>2222</th>\n",
       "      <td>E85 Flex Fuel</td>\n",
       "      <td>2.5L 4 cyls</td>\n",
       "      <td>Automatic 6-Speed</td>\n",
       "    </tr>\n",
       "  </tbody>\n",
       "</table>\n",
       "</div>"
      ],
      "text/plain": [
       "           fuel_type                           engine  \\\n",
       "13            Hybrid                        I4 Hybrid   \n",
       "123         Gasoline                          4.0L V6   \n",
       "414         Gasoline   Regular Unleaded V-8 5.0 L/302   \n",
       "2222   E85 Flex Fuel                      2.5L 4 cyls   \n",
       "\n",
       "                  transmission  \n",
       "13                         CVT  \n",
       "123          Automatic 4-Speed  \n",
       "414    10-Speed Automatic w/OD  \n",
       "2222         Automatic 6-Speed  "
      ]
     },
     "execution_count": 12,
     "metadata": {},
     "output_type": "execute_result"
    }
   ],
   "source": [
    "full_data.loc[[13,123,414,2222],['fuel_type','engine','transmission']]"
   ]
  },
  {
   "cell_type": "code",
   "execution_count": 13,
   "metadata": {},
   "outputs": [
    {
     "data": {
      "text/html": [
       "<div>\n",
       "<style scoped>\n",
       "    .dataframe tbody tr th:only-of-type {\n",
       "        vertical-align: middle;\n",
       "    }\n",
       "\n",
       "    .dataframe tbody tr th {\n",
       "        vertical-align: top;\n",
       "    }\n",
       "\n",
       "    .dataframe thead th {\n",
       "        text-align: right;\n",
       "    }\n",
       "</style>\n",
       "<table border=\"1\" class=\"dataframe\">\n",
       "  <thead>\n",
       "    <tr style=\"text-align: right;\">\n",
       "      <th></th>\n",
       "      <th>fuel_type</th>\n",
       "      <th>transmission</th>\n",
       "      <th>engine</th>\n",
       "    </tr>\n",
       "  </thead>\n",
       "  <tbody>\n",
       "    <tr>\n",
       "      <th>13</th>\n",
       "      <td>Hybrid</td>\n",
       "      <td>CVT</td>\n",
       "      <td>I4 Hybrid</td>\n",
       "    </tr>\n",
       "    <tr>\n",
       "      <th>123</th>\n",
       "      <td>Gasoline</td>\n",
       "      <td>Automatic 4-Speed</td>\n",
       "      <td>4.0L V6</td>\n",
       "    </tr>\n",
       "    <tr>\n",
       "      <th>414</th>\n",
       "      <td>Gasoline</td>\n",
       "      <td>10-Speed Automatic w/OD</td>\n",
       "      <td>Regular Unleaded V-8 5.0 L/302</td>\n",
       "    </tr>\n",
       "    <tr>\n",
       "      <th>2222</th>\n",
       "      <td>E85 Flex Fuel</td>\n",
       "      <td>Automatic 6-Speed</td>\n",
       "      <td>2.5L 4 cyls</td>\n",
       "    </tr>\n",
       "  </tbody>\n",
       "</table>\n",
       "</div>"
      ],
      "text/plain": [
       "           fuel_type              transmission  \\\n",
       "13            Hybrid                       CVT   \n",
       "123         Gasoline         Automatic 4-Speed   \n",
       "414         Gasoline   10-Speed Automatic w/OD   \n",
       "2222   E85 Flex Fuel         Automatic 6-Speed   \n",
       "\n",
       "                               engine  \n",
       "13                          I4 Hybrid  \n",
       "123                           4.0L V6  \n",
       "414    Regular Unleaded V-8 5.0 L/302  \n",
       "2222                      2.5L 4 cyls  "
      ]
     },
     "execution_count": 13,
     "metadata": {},
     "output_type": "execute_result"
    }
   ],
   "source": [
    "full_data.iloc[[13,123,414,2222],[2,6,7]]"
   ]
  },
  {
   "cell_type": "code",
   "execution_count": 14,
   "metadata": {},
   "outputs": [
    {
     "data": {
      "text/plain": [
       "' Automatic 4-Speed'"
      ]
     },
     "execution_count": 14,
     "metadata": {},
     "output_type": "execute_result"
    }
   ],
   "source": [
    "full_data.loc[[13,123,414,2222],['fuel_type','engine','transmission']].loc[123,'transmission']"
   ]
  },
  {
   "cell_type": "code",
   "execution_count": 15,
   "metadata": {},
   "outputs": [
    {
     "data": {
      "text/plain": [
       "' Automatic 4-Speed'"
      ]
     },
     "execution_count": 15,
     "metadata": {},
     "output_type": "execute_result"
    }
   ],
   "source": [
    "full_data.iloc[[13,123,414,2222],[2,6,7]].iloc[1,1]"
   ]
  },
  {
   "cell_type": "markdown",
   "metadata": {},
   "source": [
    "**Целые строки и столбцы:**"
   ]
  },
  {
   "cell_type": "code",
   "execution_count": 16,
   "metadata": {},
   "outputs": [
    {
     "data": {
      "text/html": [
       "<div>\n",
       "<style scoped>\n",
       "    .dataframe tbody tr th:only-of-type {\n",
       "        vertical-align: middle;\n",
       "    }\n",
       "\n",
       "    .dataframe tbody tr th {\n",
       "        vertical-align: top;\n",
       "    }\n",
       "\n",
       "    .dataframe thead th {\n",
       "        text-align: right;\n",
       "    }\n",
       "</style>\n",
       "<table border=\"1\" class=\"dataframe\">\n",
       "  <thead>\n",
       "    <tr style=\"text-align: right;\">\n",
       "      <th></th>\n",
       "      <th>fuel_type</th>\n",
       "      <th>engine</th>\n",
       "      <th>transmission</th>\n",
       "    </tr>\n",
       "  </thead>\n",
       "  <tbody>\n",
       "    <tr>\n",
       "      <th>0</th>\n",
       "      <td>Hybrid</td>\n",
       "      <td>4 Cylinder</td>\n",
       "      <td>CVT</td>\n",
       "    </tr>\n",
       "    <tr>\n",
       "      <th>1</th>\n",
       "      <td>Hybrid</td>\n",
       "      <td>2.0L I4 16V MPFI DOHC Hybrid</td>\n",
       "      <td>Automatic CVT</td>\n",
       "    </tr>\n",
       "    <tr>\n",
       "      <th>2</th>\n",
       "      <td>Hybrid</td>\n",
       "      <td>2.0L I4 16V MPFI DOHC Hybrid</td>\n",
       "      <td>Automatic CVT</td>\n",
       "    </tr>\n",
       "    <tr>\n",
       "      <th>3</th>\n",
       "      <td>Hybrid</td>\n",
       "      <td>2.0L I4 16V MPFI DOHC Hybrid</td>\n",
       "      <td>Automatic CVT</td>\n",
       "    </tr>\n",
       "    <tr>\n",
       "      <th>4</th>\n",
       "      <td>Hybrid</td>\n",
       "      <td>4 Cylinder Engine 2.0L</td>\n",
       "      <td>AUTOMATIC</td>\n",
       "    </tr>\n",
       "    <tr>\n",
       "      <th>...</th>\n",
       "      <td>...</td>\n",
       "      <td>...</td>\n",
       "      <td>...</td>\n",
       "    </tr>\n",
       "    <tr>\n",
       "      <th>51778</th>\n",
       "      <td>Diesel</td>\n",
       "      <td>6.7L V8 32V DDI OHV Turbo Diesel</td>\n",
       "      <td>6-Speed Automatic</td>\n",
       "    </tr>\n",
       "    <tr>\n",
       "      <th>51779</th>\n",
       "      <td>Diesel</td>\n",
       "      <td>6.7L V8 32V DDI OHV Turbo Diesel</td>\n",
       "      <td>6-Speed Automatic</td>\n",
       "    </tr>\n",
       "    <tr>\n",
       "      <th>51780</th>\n",
       "      <td>E85 Flex Fuel</td>\n",
       "      <td>6.2L V8 EFI SOHC 16V Flex Fuel</td>\n",
       "      <td>TorqShift 6-Speed Automatic</td>\n",
       "    </tr>\n",
       "    <tr>\n",
       "      <th>51781</th>\n",
       "      <td>Diesel</td>\n",
       "      <td>Power Stroke 6.7L V8 DI 32V OHV Turbodiesel</td>\n",
       "      <td>TorqShift 6-Speed Automatic</td>\n",
       "    </tr>\n",
       "    <tr>\n",
       "      <th>51782</th>\n",
       "      <td>E85 Flex Fuel</td>\n",
       "      <td>6.2L 8 CYL. FLEX FUEL</td>\n",
       "      <td>AUTOMATIC</td>\n",
       "    </tr>\n",
       "  </tbody>\n",
       "</table>\n",
       "<p>51783 rows × 3 columns</p>\n",
       "</div>"
      ],
      "text/plain": [
       "            fuel_type                                        engine  \\\n",
       "0              Hybrid                                    4 Cylinder   \n",
       "1              Hybrid                  2.0L I4 16V MPFI DOHC Hybrid   \n",
       "2              Hybrid                  2.0L I4 16V MPFI DOHC Hybrid   \n",
       "3              Hybrid                  2.0L I4 16V MPFI DOHC Hybrid   \n",
       "4              Hybrid                        4 Cylinder Engine 2.0L   \n",
       "...               ...                                           ...   \n",
       "51778          Diesel              6.7L V8 32V DDI OHV Turbo Diesel   \n",
       "51779          Diesel              6.7L V8 32V DDI OHV Turbo Diesel   \n",
       "51780   E85 Flex Fuel                6.2L V8 EFI SOHC 16V Flex Fuel   \n",
       "51781          Diesel   Power Stroke 6.7L V8 DI 32V OHV Turbodiesel   \n",
       "51782   E85 Flex Fuel                         6.2L 8 CYL. FLEX FUEL   \n",
       "\n",
       "                       transmission  \n",
       "0                               CVT  \n",
       "1                     Automatic CVT  \n",
       "2                     Automatic CVT  \n",
       "3                     Automatic CVT  \n",
       "4                         AUTOMATIC  \n",
       "...                             ...  \n",
       "51778             6-Speed Automatic  \n",
       "51779             6-Speed Automatic  \n",
       "51780   TorqShift 6-Speed Automatic  \n",
       "51781   TorqShift 6-Speed Automatic  \n",
       "51782                     AUTOMATIC  \n",
       "\n",
       "[51783 rows x 3 columns]"
      ]
     },
     "execution_count": 16,
     "metadata": {},
     "output_type": "execute_result"
    }
   ],
   "source": [
    "full_data.loc[:,['fuel_type','engine','transmission']]"
   ]
  },
  {
   "cell_type": "code",
   "execution_count": 17,
   "metadata": {},
   "outputs": [
    {
     "data": {
      "text/html": [
       "<div>\n",
       "<style scoped>\n",
       "    .dataframe tbody tr th:only-of-type {\n",
       "        vertical-align: middle;\n",
       "    }\n",
       "\n",
       "    .dataframe tbody tr th {\n",
       "        vertical-align: top;\n",
       "    }\n",
       "\n",
       "    .dataframe thead th {\n",
       "        text-align: right;\n",
       "    }\n",
       "</style>\n",
       "<table border=\"1\" class=\"dataframe\">\n",
       "  <thead>\n",
       "    <tr style=\"text-align: right;\">\n",
       "      <th></th>\n",
       "      <th>price</th>\n",
       "      <th>miles</th>\n",
       "      <th>fuel_type</th>\n",
       "      <th>exterior_color</th>\n",
       "      <th>interior_color</th>\n",
       "      <th>drivetrain</th>\n",
       "      <th>transmission</th>\n",
       "      <th>engine</th>\n",
       "      <th>VIN</th>\n",
       "      <th>name</th>\n",
       "      <th>sellerAddress</th>\n",
       "      <th>id</th>\n",
       "      <th>modelName</th>\n",
       "    </tr>\n",
       "  </thead>\n",
       "  <tbody>\n",
       "    <tr>\n",
       "      <th>12</th>\n",
       "      <td>$12,494</td>\n",
       "      <td>53,513 miles</td>\n",
       "      <td>Hybrid</td>\n",
       "      <td>White</td>\n",
       "      <td>Medium Light Stone</td>\n",
       "      <td>FWD</td>\n",
       "      <td>Automatic CVT</td>\n",
       "      <td>2.0L I4 16V MPFI DOHC Hybrid</td>\n",
       "      <td>1FADP5AU0FL123175</td>\n",
       "      <td>Used 2015 Ford C-Max Hybrid SE</td>\n",
       "      <td>6345 N 28th St, Lincoln, NE 68504</td>\n",
       "      <td>750700942</td>\n",
       "      <td>C-Max Hybrid</td>\n",
       "    </tr>\n",
       "    <tr>\n",
       "      <th>10000</th>\n",
       "      <td>$28,245</td>\n",
       "      <td>5 miles</td>\n",
       "      <td>Gasoline</td>\n",
       "      <td>White Platinum Tri-Coat Metallic</td>\n",
       "      <td>Ebony</td>\n",
       "      <td>FWD</td>\n",
       "      <td>6-Speed Automatic</td>\n",
       "      <td>1.5L I4 16V GDI DOHC Turbo</td>\n",
       "      <td>3FA6P0CDXKR133426</td>\n",
       "      <td>New 2019 Ford Fusion SEL</td>\n",
       "      <td>3200 S. Outer Rd, Blue Springs, MO 64015</td>\n",
       "      <td>753582800</td>\n",
       "      <td>Fusion</td>\n",
       "    </tr>\n",
       "  </tbody>\n",
       "</table>\n",
       "</div>"
      ],
      "text/plain": [
       "         price         miles  fuel_type                     exterior_color  \\\n",
       "12     $12,494  53,513 miles     Hybrid                              White   \n",
       "10000  $28,245       5 miles   Gasoline   White Platinum Tri-Coat Metallic   \n",
       "\n",
       "            interior_color drivetrain        transmission  \\\n",
       "12      Medium Light Stone        FWD       Automatic CVT   \n",
       "10000                Ebony        FWD   6-Speed Automatic   \n",
       "\n",
       "                              engine                 VIN  \\\n",
       "12      2.0L I4 16V MPFI DOHC Hybrid   1FADP5AU0FL123175   \n",
       "10000     1.5L I4 16V GDI DOHC Turbo   3FA6P0CDXKR133426   \n",
       "\n",
       "                                 name  \\\n",
       "12     Used 2015 Ford C-Max Hybrid SE   \n",
       "10000        New 2019 Ford Fusion SEL   \n",
       "\n",
       "                                  sellerAddress         id     modelName  \n",
       "12            6345 N 28th St, Lincoln, NE 68504  750700942  C-Max Hybrid  \n",
       "10000  3200 S. Outer Rd, Blue Springs, MO 64015  753582800        Fusion  "
      ]
     },
     "execution_count": 17,
     "metadata": {},
     "output_type": "execute_result"
    }
   ],
   "source": [
    "full_data.loc[[12,10000],:]"
   ]
  },
  {
   "cell_type": "code",
   "execution_count": 18,
   "metadata": {},
   "outputs": [
    {
     "data": {
      "text/plain": [
       "0                Hybrid\n",
       "1                Hybrid\n",
       "2                Hybrid\n",
       "3                Hybrid\n",
       "4                Hybrid\n",
       "              ...      \n",
       "51778            Diesel\n",
       "51779            Diesel\n",
       "51780     E85 Flex Fuel\n",
       "51781            Diesel\n",
       "51782     E85 Flex Fuel\n",
       "Name: fuel_type, Length: 51783, dtype: object"
      ]
     },
     "execution_count": 18,
     "metadata": {},
     "output_type": "execute_result"
    }
   ],
   "source": [
    "full_data['fuel_type']"
   ]
  },
  {
   "cell_type": "code",
   "execution_count": 19,
   "metadata": {},
   "outputs": [
    {
     "data": {
      "text/html": [
       "<div>\n",
       "<style scoped>\n",
       "    .dataframe tbody tr th:only-of-type {\n",
       "        vertical-align: middle;\n",
       "    }\n",
       "\n",
       "    .dataframe tbody tr th {\n",
       "        vertical-align: top;\n",
       "    }\n",
       "\n",
       "    .dataframe thead th {\n",
       "        text-align: right;\n",
       "    }\n",
       "</style>\n",
       "<table border=\"1\" class=\"dataframe\">\n",
       "  <thead>\n",
       "    <tr style=\"text-align: right;\">\n",
       "      <th></th>\n",
       "      <th>fuel_type</th>\n",
       "      <th>engine</th>\n",
       "    </tr>\n",
       "  </thead>\n",
       "  <tbody>\n",
       "    <tr>\n",
       "      <th>0</th>\n",
       "      <td>Hybrid</td>\n",
       "      <td>4 Cylinder</td>\n",
       "    </tr>\n",
       "    <tr>\n",
       "      <th>1</th>\n",
       "      <td>Hybrid</td>\n",
       "      <td>2.0L I4 16V MPFI DOHC Hybrid</td>\n",
       "    </tr>\n",
       "    <tr>\n",
       "      <th>2</th>\n",
       "      <td>Hybrid</td>\n",
       "      <td>2.0L I4 16V MPFI DOHC Hybrid</td>\n",
       "    </tr>\n",
       "    <tr>\n",
       "      <th>3</th>\n",
       "      <td>Hybrid</td>\n",
       "      <td>2.0L I4 16V MPFI DOHC Hybrid</td>\n",
       "    </tr>\n",
       "    <tr>\n",
       "      <th>4</th>\n",
       "      <td>Hybrid</td>\n",
       "      <td>4 Cylinder Engine 2.0L</td>\n",
       "    </tr>\n",
       "    <tr>\n",
       "      <th>...</th>\n",
       "      <td>...</td>\n",
       "      <td>...</td>\n",
       "    </tr>\n",
       "    <tr>\n",
       "      <th>51778</th>\n",
       "      <td>Diesel</td>\n",
       "      <td>6.7L V8 32V DDI OHV Turbo Diesel</td>\n",
       "    </tr>\n",
       "    <tr>\n",
       "      <th>51779</th>\n",
       "      <td>Diesel</td>\n",
       "      <td>6.7L V8 32V DDI OHV Turbo Diesel</td>\n",
       "    </tr>\n",
       "    <tr>\n",
       "      <th>51780</th>\n",
       "      <td>E85 Flex Fuel</td>\n",
       "      <td>6.2L V8 EFI SOHC 16V Flex Fuel</td>\n",
       "    </tr>\n",
       "    <tr>\n",
       "      <th>51781</th>\n",
       "      <td>Diesel</td>\n",
       "      <td>Power Stroke 6.7L V8 DI 32V OHV Turbodiesel</td>\n",
       "    </tr>\n",
       "    <tr>\n",
       "      <th>51782</th>\n",
       "      <td>E85 Flex Fuel</td>\n",
       "      <td>6.2L 8 CYL. FLEX FUEL</td>\n",
       "    </tr>\n",
       "  </tbody>\n",
       "</table>\n",
       "<p>51783 rows × 2 columns</p>\n",
       "</div>"
      ],
      "text/plain": [
       "            fuel_type                                        engine\n",
       "0              Hybrid                                    4 Cylinder\n",
       "1              Hybrid                  2.0L I4 16V MPFI DOHC Hybrid\n",
       "2              Hybrid                  2.0L I4 16V MPFI DOHC Hybrid\n",
       "3              Hybrid                  2.0L I4 16V MPFI DOHC Hybrid\n",
       "4              Hybrid                        4 Cylinder Engine 2.0L\n",
       "...               ...                                           ...\n",
       "51778          Diesel              6.7L V8 32V DDI OHV Turbo Diesel\n",
       "51779          Diesel              6.7L V8 32V DDI OHV Turbo Diesel\n",
       "51780   E85 Flex Fuel                6.2L V8 EFI SOHC 16V Flex Fuel\n",
       "51781          Diesel   Power Stroke 6.7L V8 DI 32V OHV Turbodiesel\n",
       "51782   E85 Flex Fuel                         6.2L 8 CYL. FLEX FUEL\n",
       "\n",
       "[51783 rows x 2 columns]"
      ]
     },
     "execution_count": 19,
     "metadata": {},
     "output_type": "execute_result"
    }
   ],
   "source": [
    "full_data[['fuel_type','engine']]"
   ]
  },
  {
   "cell_type": "markdown",
   "metadata": {},
   "source": [
    "**Доступ по булевой майске**"
   ]
  },
  {
   "cell_type": "code",
   "execution_count": 20,
   "metadata": {},
   "outputs": [
    {
     "data": {
      "text/html": [
       "<div>\n",
       "<style scoped>\n",
       "    .dataframe tbody tr th:only-of-type {\n",
       "        vertical-align: middle;\n",
       "    }\n",
       "\n",
       "    .dataframe tbody tr th {\n",
       "        vertical-align: top;\n",
       "    }\n",
       "\n",
       "    .dataframe thead th {\n",
       "        text-align: right;\n",
       "    }\n",
       "</style>\n",
       "<table border=\"1\" class=\"dataframe\">\n",
       "  <thead>\n",
       "    <tr style=\"text-align: right;\">\n",
       "      <th></th>\n",
       "      <th>price</th>\n",
       "      <th>miles</th>\n",
       "      <th>fuel_type</th>\n",
       "      <th>exterior_color</th>\n",
       "    </tr>\n",
       "  </thead>\n",
       "  <tbody>\n",
       "    <tr>\n",
       "      <th>4702</th>\n",
       "      <td>$23,395</td>\n",
       "      <td>10,393 miles</td>\n",
       "      <td>Gasoline</td>\n",
       "      <td>Summit White</td>\n",
       "    </tr>\n",
       "    <tr>\n",
       "      <th>4703</th>\n",
       "      <td>$54,647</td>\n",
       "      <td>10 miles</td>\n",
       "      <td>Diesel</td>\n",
       "      <td>Brilliant Black Crystal Pearlcoat</td>\n",
       "    </tr>\n",
       "    <tr>\n",
       "      <th>4704</th>\n",
       "      <td>$8,488</td>\n",
       "      <td>213,601 miles</td>\n",
       "      <td>Unknown</td>\n",
       "      <td>White</td>\n",
       "    </tr>\n",
       "    <tr>\n",
       "      <th>4705</th>\n",
       "      <td>$2,500</td>\n",
       "      <td>211,853 miles</td>\n",
       "      <td>Gasoline</td>\n",
       "      <td>Blue</td>\n",
       "    </tr>\n",
       "    <tr>\n",
       "      <th>4706</th>\n",
       "      <td>$9,950</td>\n",
       "      <td>6,165 miles</td>\n",
       "      <td>Diesel</td>\n",
       "      <td>Red</td>\n",
       "    </tr>\n",
       "    <tr>\n",
       "      <th>4707</th>\n",
       "      <td>$29,869</td>\n",
       "      <td>4 miles</td>\n",
       "      <td>Compressed Natural Gas</td>\n",
       "      <td>Summit White</td>\n",
       "    </tr>\n",
       "    <tr>\n",
       "      <th>4708</th>\n",
       "      <td>$17,288</td>\n",
       "      <td>86,729 miles</td>\n",
       "      <td>Gasoline</td>\n",
       "      <td>Bright Silver</td>\n",
       "    </tr>\n",
       "  </tbody>\n",
       "</table>\n",
       "</div>"
      ],
      "text/plain": [
       "        price          miles                fuel_type  \\\n",
       "4702  $23,395   10,393 miles                 Gasoline   \n",
       "4703  $54,647       10 miles                   Diesel   \n",
       "4704   $8,488  213,601 miles                  Unknown   \n",
       "4705   $2,500  211,853 miles                 Gasoline   \n",
       "4706   $9,950    6,165 miles                   Diesel   \n",
       "4707  $29,869        4 miles   Compressed Natural Gas   \n",
       "4708  $17,288   86,729 miles                 Gasoline   \n",
       "\n",
       "                          exterior_color  \n",
       "4702                        Summit White  \n",
       "4703   Brilliant Black Crystal Pearlcoat  \n",
       "4704                               White  \n",
       "4705                                Blue  \n",
       "4706                                 Red  \n",
       "4707                        Summit White  \n",
       "4708                       Bright Silver  "
      ]
     },
     "execution_count": 20,
     "metadata": {},
     "output_type": "execute_result"
    }
   ],
   "source": [
    "df= full_data.iloc[4702:4709,:4]\n",
    "df"
   ]
  },
  {
   "cell_type": "code",
   "execution_count": 21,
   "metadata": {},
   "outputs": [
    {
     "data": {
      "text/html": [
       "<div>\n",
       "<style scoped>\n",
       "    .dataframe tbody tr th:only-of-type {\n",
       "        vertical-align: middle;\n",
       "    }\n",
       "\n",
       "    .dataframe tbody tr th {\n",
       "        vertical-align: top;\n",
       "    }\n",
       "\n",
       "    .dataframe thead th {\n",
       "        text-align: right;\n",
       "    }\n",
       "</style>\n",
       "<table border=\"1\" class=\"dataframe\">\n",
       "  <thead>\n",
       "    <tr style=\"text-align: right;\">\n",
       "      <th></th>\n",
       "      <th>miles</th>\n",
       "      <th>fuel_type</th>\n",
       "    </tr>\n",
       "  </thead>\n",
       "  <tbody>\n",
       "    <tr>\n",
       "      <th>4703</th>\n",
       "      <td>10 miles</td>\n",
       "      <td>Diesel</td>\n",
       "    </tr>\n",
       "    <tr>\n",
       "      <th>4705</th>\n",
       "      <td>211,853 miles</td>\n",
       "      <td>Gasoline</td>\n",
       "    </tr>\n",
       "    <tr>\n",
       "      <th>4707</th>\n",
       "      <td>4 miles</td>\n",
       "      <td>Compressed Natural Gas</td>\n",
       "    </tr>\n",
       "  </tbody>\n",
       "</table>\n",
       "</div>"
      ],
      "text/plain": [
       "              miles                fuel_type\n",
       "4703       10 miles                   Diesel\n",
       "4705  211,853 miles                 Gasoline\n",
       "4707        4 miles   Compressed Natural Gas"
      ]
     },
     "execution_count": 21,
     "metadata": {},
     "output_type": "execute_result"
    }
   ],
   "source": [
    "df.loc[[False, True, False, True, False, True, False], [False, True, True, False]] # или iloc"
   ]
  },
  {
   "cell_type": "code",
   "execution_count": 22,
   "metadata": {},
   "outputs": [
    {
     "data": {
      "text/html": [
       "<div>\n",
       "<style scoped>\n",
       "    .dataframe tbody tr th:only-of-type {\n",
       "        vertical-align: middle;\n",
       "    }\n",
       "\n",
       "    .dataframe tbody tr th {\n",
       "        vertical-align: top;\n",
       "    }\n",
       "\n",
       "    .dataframe thead th {\n",
       "        text-align: right;\n",
       "    }\n",
       "</style>\n",
       "<table border=\"1\" class=\"dataframe\">\n",
       "  <thead>\n",
       "    <tr style=\"text-align: right;\">\n",
       "      <th></th>\n",
       "      <th>price</th>\n",
       "      <th>miles</th>\n",
       "      <th>fuel_type</th>\n",
       "      <th>exterior_color</th>\n",
       "    </tr>\n",
       "  </thead>\n",
       "  <tbody>\n",
       "    <tr>\n",
       "      <th>4703</th>\n",
       "      <td>$54,647</td>\n",
       "      <td>10 miles</td>\n",
       "      <td>Diesel</td>\n",
       "      <td>Brilliant Black Crystal Pearlcoat</td>\n",
       "    </tr>\n",
       "    <tr>\n",
       "      <th>4704</th>\n",
       "      <td>$8,488</td>\n",
       "      <td>213,601 miles</td>\n",
       "      <td>Unknown</td>\n",
       "      <td>White</td>\n",
       "    </tr>\n",
       "    <tr>\n",
       "      <th>4705</th>\n",
       "      <td>$2,500</td>\n",
       "      <td>211,853 miles</td>\n",
       "      <td>Gasoline</td>\n",
       "      <td>Blue</td>\n",
       "    </tr>\n",
       "    <tr>\n",
       "      <th>4706</th>\n",
       "      <td>$9,950</td>\n",
       "      <td>6,165 miles</td>\n",
       "      <td>Diesel</td>\n",
       "      <td>Red</td>\n",
       "    </tr>\n",
       "  </tbody>\n",
       "</table>\n",
       "</div>"
      ],
      "text/plain": [
       "        price          miles  fuel_type                      exterior_color\n",
       "4703  $54,647       10 miles     Diesel   Brilliant Black Crystal Pearlcoat\n",
       "4704   $8,488  213,601 miles    Unknown                               White\n",
       "4705   $2,500  211,853 miles   Gasoline                                Blue\n",
       "4706   $9,950    6,165 miles     Diesel                                 Red"
      ]
     },
     "execution_count": 22,
     "metadata": {},
     "output_type": "execute_result"
    }
   ],
   "source": [
    "df.loc[[False, True, True, True, True, False, False]] # или iloc"
   ]
  },
  {
   "cell_type": "code",
   "execution_count": 23,
   "metadata": {},
   "outputs": [
    {
     "data": {
      "text/html": [
       "<div>\n",
       "<style scoped>\n",
       "    .dataframe tbody tr th:only-of-type {\n",
       "        vertical-align: middle;\n",
       "    }\n",
       "\n",
       "    .dataframe tbody tr th {\n",
       "        vertical-align: top;\n",
       "    }\n",
       "\n",
       "    .dataframe thead th {\n",
       "        text-align: right;\n",
       "    }\n",
       "</style>\n",
       "<table border=\"1\" class=\"dataframe\">\n",
       "  <thead>\n",
       "    <tr style=\"text-align: right;\">\n",
       "      <th></th>\n",
       "      <th>price</th>\n",
       "      <th>miles</th>\n",
       "      <th>fuel_type</th>\n",
       "      <th>exterior_color</th>\n",
       "    </tr>\n",
       "  </thead>\n",
       "  <tbody>\n",
       "    <tr>\n",
       "      <th>4706</th>\n",
       "      <td>$9,950</td>\n",
       "      <td>6,165 miles</td>\n",
       "      <td>Diesel</td>\n",
       "      <td>Red</td>\n",
       "    </tr>\n",
       "  </tbody>\n",
       "</table>\n",
       "</div>"
      ],
      "text/plain": [
       "       price        miles fuel_type exterior_color\n",
       "4706  $9,950  6,165 miles    Diesel            Red"
      ]
     },
     "execution_count": 23,
     "metadata": {},
     "output_type": "execute_result"
    }
   ],
   "source": [
    "df.loc[df.exterior_color == ' Red',  ]"
   ]
  },
  {
   "cell_type": "markdown",
   "metadata": {},
   "source": [
    "**Обзор данных:**\n",
    "    \n",
    "С помощью метода Dataframe.describe() библиотеки pandas, осмотрим наши столбцы данных на наличе пустых столбов, аномалий или закономерностей\n",
    "\n",
    "**Для номинальных признаков**\n",
    "count - количество значений\n",
    "\n",
    "unique - количество уникальных значений в каждом столбце\n",
    "\n",
    "top - самое распространенное значение\n",
    "\n",
    "freq - частота наиболее распространенного значения\n",
    "\n",
    "**Для количественных признаков:**\n",
    "mean - Среднее арифметическое\n",
    "\n",
    "std - Стандартное отклонение\n",
    "\n",
    "min - Минимальное значение\n",
    "\n",
    "25% - Квартиль уровня (1/4)\n",
    "\n",
    "50% - Медиана\n",
    "\n",
    "75% - Квартиль уровня (3/4)\n",
    "\n",
    "max - Максимальное значение"
   ]
  },
  {
   "cell_type": "code",
   "execution_count": 24,
   "metadata": {},
   "outputs": [
    {
     "data": {
      "text/html": [
       "<div>\n",
       "<style scoped>\n",
       "    .dataframe tbody tr th:only-of-type {\n",
       "        vertical-align: middle;\n",
       "    }\n",
       "\n",
       "    .dataframe tbody tr th {\n",
       "        vertical-align: top;\n",
       "    }\n",
       "\n",
       "    .dataframe thead th {\n",
       "        text-align: right;\n",
       "    }\n",
       "</style>\n",
       "<table border=\"1\" class=\"dataframe\">\n",
       "  <thead>\n",
       "    <tr style=\"text-align: right;\">\n",
       "      <th></th>\n",
       "      <th>price</th>\n",
       "      <th>miles</th>\n",
       "      <th>fuel_type</th>\n",
       "      <th>exterior_color</th>\n",
       "      <th>interior_color</th>\n",
       "      <th>drivetrain</th>\n",
       "      <th>transmission</th>\n",
       "      <th>engine</th>\n",
       "      <th>VIN</th>\n",
       "      <th>name</th>\n",
       "      <th>sellerAddress</th>\n",
       "      <th>id</th>\n",
       "      <th>modelName</th>\n",
       "    </tr>\n",
       "  </thead>\n",
       "  <tbody>\n",
       "    <tr>\n",
       "      <th>count</th>\n",
       "      <td>50987</td>\n",
       "      <td>42301</td>\n",
       "      <td>51655</td>\n",
       "      <td>50885</td>\n",
       "      <td>45102</td>\n",
       "      <td>48653</td>\n",
       "      <td>49856</td>\n",
       "      <td>49340</td>\n",
       "      <td>51526</td>\n",
       "      <td>51657</td>\n",
       "      <td>51517</td>\n",
       "      <td>5.178300e+04</td>\n",
       "      <td>51783</td>\n",
       "    </tr>\n",
       "    <tr>\n",
       "      <th>unique</th>\n",
       "      <td>23114</td>\n",
       "      <td>18609</td>\n",
       "      <td>7</td>\n",
       "      <td>1124</td>\n",
       "      <td>1268</td>\n",
       "      <td>66</td>\n",
       "      <td>343</td>\n",
       "      <td>1493</td>\n",
       "      <td>50839</td>\n",
       "      <td>3299</td>\n",
       "      <td>2468</td>\n",
       "      <td>NaN</td>\n",
       "      <td>41</td>\n",
       "    </tr>\n",
       "    <tr>\n",
       "      <th>top</th>\n",
       "      <td>$13,995</td>\n",
       "      <td>5 miles</td>\n",
       "      <td>Gasoline</td>\n",
       "      <td>Shadow Black</td>\n",
       "      <td>Charcoal Black</td>\n",
       "      <td>4WD</td>\n",
       "      <td>6-Speed Automatic</td>\n",
       "      <td>3.5L V6 24V MPFI DOHC</td>\n",
       "      <td>3FA6P0LU8HR380758</td>\n",
       "      <td>New 2018 Ford F-150 XLT</td>\n",
       "      <td>900 Bernadette Dr, Columbia, MO 65203</td>\n",
       "      <td>NaN</td>\n",
       "      <td>F-150</td>\n",
       "    </tr>\n",
       "    <tr>\n",
       "      <th>freq</th>\n",
       "      <td>107</td>\n",
       "      <td>3582</td>\n",
       "      <td>38282</td>\n",
       "      <td>5387</td>\n",
       "      <td>8720</td>\n",
       "      <td>17845</td>\n",
       "      <td>20154</td>\n",
       "      <td>2863</td>\n",
       "      <td>8</td>\n",
       "      <td>2080</td>\n",
       "      <td>708</td>\n",
       "      <td>NaN</td>\n",
       "      <td>4742</td>\n",
       "    </tr>\n",
       "    <tr>\n",
       "      <th>mean</th>\n",
       "      <td>NaN</td>\n",
       "      <td>NaN</td>\n",
       "      <td>NaN</td>\n",
       "      <td>NaN</td>\n",
       "      <td>NaN</td>\n",
       "      <td>NaN</td>\n",
       "      <td>NaN</td>\n",
       "      <td>NaN</td>\n",
       "      <td>NaN</td>\n",
       "      <td>NaN</td>\n",
       "      <td>NaN</td>\n",
       "      <td>7.472646e+08</td>\n",
       "      <td>NaN</td>\n",
       "    </tr>\n",
       "    <tr>\n",
       "      <th>std</th>\n",
       "      <td>NaN</td>\n",
       "      <td>NaN</td>\n",
       "      <td>NaN</td>\n",
       "      <td>NaN</td>\n",
       "      <td>NaN</td>\n",
       "      <td>NaN</td>\n",
       "      <td>NaN</td>\n",
       "      <td>NaN</td>\n",
       "      <td>NaN</td>\n",
       "      <td>NaN</td>\n",
       "      <td>NaN</td>\n",
       "      <td>1.459627e+07</td>\n",
       "      <td>NaN</td>\n",
       "    </tr>\n",
       "    <tr>\n",
       "      <th>min</th>\n",
       "      <td>NaN</td>\n",
       "      <td>NaN</td>\n",
       "      <td>NaN</td>\n",
       "      <td>NaN</td>\n",
       "      <td>NaN</td>\n",
       "      <td>NaN</td>\n",
       "      <td>NaN</td>\n",
       "      <td>NaN</td>\n",
       "      <td>NaN</td>\n",
       "      <td>NaN</td>\n",
       "      <td>NaN</td>\n",
       "      <td>2.648982e+06</td>\n",
       "      <td>NaN</td>\n",
       "    </tr>\n",
       "    <tr>\n",
       "      <th>25%</th>\n",
       "      <td>NaN</td>\n",
       "      <td>NaN</td>\n",
       "      <td>NaN</td>\n",
       "      <td>NaN</td>\n",
       "      <td>NaN</td>\n",
       "      <td>NaN</td>\n",
       "      <td>NaN</td>\n",
       "      <td>NaN</td>\n",
       "      <td>NaN</td>\n",
       "      <td>NaN</td>\n",
       "      <td>NaN</td>\n",
       "      <td>7.447334e+08</td>\n",
       "      <td>NaN</td>\n",
       "    </tr>\n",
       "    <tr>\n",
       "      <th>50%</th>\n",
       "      <td>NaN</td>\n",
       "      <td>NaN</td>\n",
       "      <td>NaN</td>\n",
       "      <td>NaN</td>\n",
       "      <td>NaN</td>\n",
       "      <td>NaN</td>\n",
       "      <td>NaN</td>\n",
       "      <td>NaN</td>\n",
       "      <td>NaN</td>\n",
       "      <td>NaN</td>\n",
       "      <td>NaN</td>\n",
       "      <td>7.508864e+08</td>\n",
       "      <td>NaN</td>\n",
       "    </tr>\n",
       "    <tr>\n",
       "      <th>75%</th>\n",
       "      <td>NaN</td>\n",
       "      <td>NaN</td>\n",
       "      <td>NaN</td>\n",
       "      <td>NaN</td>\n",
       "      <td>NaN</td>\n",
       "      <td>NaN</td>\n",
       "      <td>NaN</td>\n",
       "      <td>NaN</td>\n",
       "      <td>NaN</td>\n",
       "      <td>NaN</td>\n",
       "      <td>NaN</td>\n",
       "      <td>7.540559e+08</td>\n",
       "      <td>NaN</td>\n",
       "    </tr>\n",
       "    <tr>\n",
       "      <th>max</th>\n",
       "      <td>NaN</td>\n",
       "      <td>NaN</td>\n",
       "      <td>NaN</td>\n",
       "      <td>NaN</td>\n",
       "      <td>NaN</td>\n",
       "      <td>NaN</td>\n",
       "      <td>NaN</td>\n",
       "      <td>NaN</td>\n",
       "      <td>NaN</td>\n",
       "      <td>NaN</td>\n",
       "      <td>NaN</td>\n",
       "      <td>7.564938e+08</td>\n",
       "      <td>NaN</td>\n",
       "    </tr>\n",
       "  </tbody>\n",
       "</table>\n",
       "</div>"
      ],
      "text/plain": [
       "          price    miles  fuel_type exterior_color   interior_color  \\\n",
       "count     50987    42301      51655          50885            45102   \n",
       "unique    23114    18609          7           1124             1268   \n",
       "top     $13,995  5 miles   Gasoline   Shadow Black   Charcoal Black   \n",
       "freq        107     3582      38282           5387             8720   \n",
       "mean        NaN      NaN        NaN            NaN              NaN   \n",
       "std         NaN      NaN        NaN            NaN              NaN   \n",
       "min         NaN      NaN        NaN            NaN              NaN   \n",
       "25%         NaN      NaN        NaN            NaN              NaN   \n",
       "50%         NaN      NaN        NaN            NaN              NaN   \n",
       "75%         NaN      NaN        NaN            NaN              NaN   \n",
       "max         NaN      NaN        NaN            NaN              NaN   \n",
       "\n",
       "       drivetrain        transmission                  engine  \\\n",
       "count       48653               49856                   49340   \n",
       "unique         66                 343                    1493   \n",
       "top           4WD   6-Speed Automatic   3.5L V6 24V MPFI DOHC   \n",
       "freq        17845               20154                    2863   \n",
       "mean          NaN                 NaN                     NaN   \n",
       "std           NaN                 NaN                     NaN   \n",
       "min           NaN                 NaN                     NaN   \n",
       "25%           NaN                 NaN                     NaN   \n",
       "50%           NaN                 NaN                     NaN   \n",
       "75%           NaN                 NaN                     NaN   \n",
       "max           NaN                 NaN                     NaN   \n",
       "\n",
       "                       VIN                     name  \\\n",
       "count                51526                    51657   \n",
       "unique               50839                     3299   \n",
       "top      3FA6P0LU8HR380758  New 2018 Ford F-150 XLT   \n",
       "freq                     8                     2080   \n",
       "mean                   NaN                      NaN   \n",
       "std                    NaN                      NaN   \n",
       "min                    NaN                      NaN   \n",
       "25%                    NaN                      NaN   \n",
       "50%                    NaN                      NaN   \n",
       "75%                    NaN                      NaN   \n",
       "max                    NaN                      NaN   \n",
       "\n",
       "                                sellerAddress            id modelName  \n",
       "count                                   51517  5.178300e+04     51783  \n",
       "unique                                   2468           NaN        41  \n",
       "top     900 Bernadette Dr, Columbia, MO 65203           NaN     F-150  \n",
       "freq                                      708           NaN      4742  \n",
       "mean                                      NaN  7.472646e+08       NaN  \n",
       "std                                       NaN  1.459627e+07       NaN  \n",
       "min                                       NaN  2.648982e+06       NaN  \n",
       "25%                                       NaN  7.447334e+08       NaN  \n",
       "50%                                       NaN  7.508864e+08       NaN  \n",
       "75%                                       NaN  7.540559e+08       NaN  \n",
       "max                                       NaN  7.564938e+08       NaN  "
      ]
     },
     "execution_count": 24,
     "metadata": {},
     "output_type": "execute_result"
    }
   ],
   "source": [
    "full_data.iloc[:,:13].describe(include=\"all\")"
   ]
  },
  {
   "cell_type": "markdown",
   "metadata": {},
   "source": [
    "Самое встречаемое значение наших классов состояния машин - 4WD, количество непропущенных строк даных - 48653, а частота входжения - 17845, что составляет - 34% значений всего класса, а значит наши классы по этому столбцу - сбалансированны (при условии что баланс считаем нарушенным если, один класс занимает более 75% от класса)"
   ]
  },
  {
   "cell_type": "markdown",
   "metadata": {},
   "source": [
    "**Визуализация данных и описательная статистика**"
   ]
  },
  {
   "cell_type": "markdown",
   "metadata": {},
   "source": [
    "Рассмотрим диаграмму по двум количественным признакам - цене от пробегу автомобиля, предполагаем что эти данные зависимы т.к с ростом пробега, будет уменьшатся цена автомобиля"
   ]
  },
  {
   "cell_type": "markdown",
   "metadata": {},
   "source": [
    "Сначала нам необходимо очистить данные в колонках miles и price от \"$\" и \"miles\"\n",
    "\n",
    "\n",
    "Создадим новую таблицу full_dataC там и будем производить очистку"
   ]
  },
  {
   "cell_type": "code",
   "execution_count": 25,
   "metadata": {},
   "outputs": [
    {
     "data": {
      "text/plain": [
       "(35113, 13)"
      ]
     },
     "execution_count": 25,
     "metadata": {},
     "output_type": "execute_result"
    }
   ],
   "source": [
    "delete_data = full_data.copy()\n",
    "delete_data.dropna(inplace=True)\n",
    "delete_data.shape"
   ]
  },
  {
   "cell_type": "code",
   "execution_count": 26,
   "metadata": {},
   "outputs": [],
   "source": [
    "import re\n",
    "full_dataC = delete_data.copy()\n",
    "for  row in range(35113):\n",
    "    full_dataC.iloc[row,0] =re.sub(\"\\D\", \"\",str(full_dataC.iloc[row,0]))\n",
    "    full_dataC.iloc[row,1] =re.sub(\"\\D\", \"\",str(full_dataC.iloc[row,1]))"
   ]
  },
  {
   "cell_type": "code",
   "execution_count": 44,
   "metadata": {},
   "outputs": [],
   "source": [
    "full_dataC['miles'] =pd.to_numeric(full_dataC['miles'],downcast='float')\n",
    "full_dataC['price'] =pd.to_numeric(full_dataC['price'],downcast='float')"
   ]
  },
  {
   "cell_type": "markdown",
   "metadata": {},
   "source": [
    "Убедимся в результате:"
   ]
  },
  {
   "cell_type": "code",
   "execution_count": 40,
   "metadata": {},
   "outputs": [
    {
     "data": {
      "text/html": [
       "<div>\n",
       "<style scoped>\n",
       "    .dataframe tbody tr th:only-of-type {\n",
       "        vertical-align: middle;\n",
       "    }\n",
       "\n",
       "    .dataframe tbody tr th {\n",
       "        vertical-align: top;\n",
       "    }\n",
       "\n",
       "    .dataframe thead th {\n",
       "        text-align: right;\n",
       "    }\n",
       "</style>\n",
       "<table border=\"1\" class=\"dataframe\">\n",
       "  <thead>\n",
       "    <tr style=\"text-align: right;\">\n",
       "      <th></th>\n",
       "      <th>price</th>\n",
       "      <th>miles</th>\n",
       "      <th>fuel_type</th>\n",
       "      <th>exterior_color</th>\n",
       "      <th>interior_color</th>\n",
       "      <th>drivetrain</th>\n",
       "      <th>transmission</th>\n",
       "      <th>engine</th>\n",
       "      <th>VIN</th>\n",
       "      <th>name</th>\n",
       "      <th>sellerAddress</th>\n",
       "      <th>id</th>\n",
       "      <th>modelName</th>\n",
       "    </tr>\n",
       "  </thead>\n",
       "  <tbody>\n",
       "    <tr>\n",
       "      <th>0</th>\n",
       "      <td>25290</td>\n",
       "      <td>6</td>\n",
       "      <td>Hybrid</td>\n",
       "      <td>Oxford White</td>\n",
       "      <td>Charcoal Black</td>\n",
       "      <td>FWD</td>\n",
       "      <td>CVT</td>\n",
       "      <td>4 Cylinder</td>\n",
       "      <td>1FADP5AU6JL100444</td>\n",
       "      <td>New 2018 Ford C-Max Hybrid SE</td>\n",
       "      <td>2406 N Jefferson Way, Indianola, IA 50125</td>\n",
       "      <td>719242528</td>\n",
       "      <td>C-Max Hybrid</td>\n",
       "    </tr>\n",
       "    <tr>\n",
       "      <th>1</th>\n",
       "      <td>12988</td>\n",
       "      <td>51713</td>\n",
       "      <td>Hybrid</td>\n",
       "      <td>Gray</td>\n",
       "      <td>Charcoal Black</td>\n",
       "      <td>FWD</td>\n",
       "      <td>Automatic CVT</td>\n",
       "      <td>2.0L I4 16V MPFI DOHC Hybrid</td>\n",
       "      <td>1FADP5BUXDL528553</td>\n",
       "      <td>Used 2013 Ford C-Max Hybrid SEL</td>\n",
       "      <td>2020 W 20th St S, Newton, IA 50208</td>\n",
       "      <td>753737631</td>\n",
       "      <td>C-Max Hybrid</td>\n",
       "    </tr>\n",
       "    <tr>\n",
       "      <th>2</th>\n",
       "      <td>25995</td>\n",
       "      <td>10</td>\n",
       "      <td>Hybrid</td>\n",
       "      <td>White</td>\n",
       "      <td>Black</td>\n",
       "      <td>FWD</td>\n",
       "      <td>Automatic CVT</td>\n",
       "      <td>2.0L I4 16V MPFI DOHC Hybrid</td>\n",
       "      <td>1FADP5BU7GL115512</td>\n",
       "      <td>New 2016 Ford C-Max Hybrid SEL</td>\n",
       "      <td>916 W St S, Grinnell, IA 50112</td>\n",
       "      <td>675439230</td>\n",
       "      <td>C-Max Hybrid</td>\n",
       "    </tr>\n",
       "    <tr>\n",
       "      <th>3</th>\n",
       "      <td>20225</td>\n",
       "      <td>2022</td>\n",
       "      <td>Hybrid</td>\n",
       "      <td>Magnetic Metallic</td>\n",
       "      <td>Charcoal Black</td>\n",
       "      <td>FWD</td>\n",
       "      <td>Automatic CVT</td>\n",
       "      <td>2.0L I4 16V MPFI DOHC Hybrid</td>\n",
       "      <td>1FADP5AUXJL105758</td>\n",
       "      <td>New 2018 Ford C-Max Hybrid SE</td>\n",
       "      <td>600 Brooks Rd, Iowa Falls, IA 50126</td>\n",
       "      <td>738620869</td>\n",
       "      <td>C-Max Hybrid</td>\n",
       "    </tr>\n",
       "    <tr>\n",
       "      <th>4</th>\n",
       "      <td>9413</td>\n",
       "      <td>48164</td>\n",
       "      <td>Hybrid</td>\n",
       "      <td>Oxford White</td>\n",
       "      <td>Medium Light Stone/Medium Dark Stone</td>\n",
       "      <td>FWD</td>\n",
       "      <td>AUTOMATIC</td>\n",
       "      <td>4 Cylinder Engine 2.0L</td>\n",
       "      <td>1FADP5AU3DL540626</td>\n",
       "      <td>Used 2013 Ford C-Max Hybrid SE</td>\n",
       "      <td>215 15th St SW, Mason City, IA 50401</td>\n",
       "      <td>754880903</td>\n",
       "      <td>C-Max Hybrid</td>\n",
       "    </tr>\n",
       "  </tbody>\n",
       "</table>\n",
       "</div>"
      ],
      "text/plain": [
       "   price  miles fuel_type      exterior_color  \\\n",
       "0  25290      6    Hybrid        Oxford White   \n",
       "1  12988  51713    Hybrid                Gray   \n",
       "2  25995     10    Hybrid               White   \n",
       "3  20225   2022    Hybrid   Magnetic Metallic   \n",
       "4   9413  48164    Hybrid        Oxford White   \n",
       "\n",
       "                          interior_color drivetrain    transmission  \\\n",
       "0                         Charcoal Black        FWD             CVT   \n",
       "1                         Charcoal Black        FWD   Automatic CVT   \n",
       "2                                  Black        FWD   Automatic CVT   \n",
       "3                         Charcoal Black        FWD   Automatic CVT   \n",
       "4   Medium Light Stone/Medium Dark Stone        FWD       AUTOMATIC   \n",
       "\n",
       "                          engine                 VIN  \\\n",
       "0                     4 Cylinder   1FADP5AU6JL100444   \n",
       "1   2.0L I4 16V MPFI DOHC Hybrid   1FADP5BUXDL528553   \n",
       "2   2.0L I4 16V MPFI DOHC Hybrid   1FADP5BU7GL115512   \n",
       "3   2.0L I4 16V MPFI DOHC Hybrid   1FADP5AUXJL105758   \n",
       "4         4 Cylinder Engine 2.0L   1FADP5AU3DL540626   \n",
       "\n",
       "                              name                              sellerAddress  \\\n",
       "0    New 2018 Ford C-Max Hybrid SE  2406 N Jefferson Way, Indianola, IA 50125   \n",
       "1  Used 2013 Ford C-Max Hybrid SEL         2020 W 20th St S, Newton, IA 50208   \n",
       "2   New 2016 Ford C-Max Hybrid SEL             916 W St S, Grinnell, IA 50112   \n",
       "3    New 2018 Ford C-Max Hybrid SE        600 Brooks Rd, Iowa Falls, IA 50126   \n",
       "4   Used 2013 Ford C-Max Hybrid SE       215 15th St SW, Mason City, IA 50401   \n",
       "\n",
       "          id     modelName  \n",
       "0  719242528  C-Max Hybrid  \n",
       "1  753737631  C-Max Hybrid  \n",
       "2  675439230  C-Max Hybrid  \n",
       "3  738620869  C-Max Hybrid  \n",
       "4  754880903  C-Max Hybrid  "
      ]
     },
     "execution_count": 40,
     "metadata": {},
     "output_type": "execute_result"
    }
   ],
   "source": [
    "full_dataC.head()"
   ]
  },
  {
   "cell_type": "code",
   "execution_count": 29,
   "metadata": {},
   "outputs": [
    {
     "data": {
      "text/html": [
       "<div>\n",
       "<style scoped>\n",
       "    .dataframe tbody tr th:only-of-type {\n",
       "        vertical-align: middle;\n",
       "    }\n",
       "\n",
       "    .dataframe tbody tr th {\n",
       "        vertical-align: top;\n",
       "    }\n",
       "\n",
       "    .dataframe thead th {\n",
       "        text-align: right;\n",
       "    }\n",
       "</style>\n",
       "<table border=\"1\" class=\"dataframe\">\n",
       "  <thead>\n",
       "    <tr style=\"text-align: right;\">\n",
       "      <th></th>\n",
       "      <th>price</th>\n",
       "      <th>miles</th>\n",
       "      <th>fuel_type</th>\n",
       "      <th>exterior_color</th>\n",
       "      <th>interior_color</th>\n",
       "      <th>drivetrain</th>\n",
       "      <th>transmission</th>\n",
       "      <th>engine</th>\n",
       "      <th>VIN</th>\n",
       "      <th>name</th>\n",
       "      <th>sellerAddress</th>\n",
       "      <th>id</th>\n",
       "      <th>modelName</th>\n",
       "    </tr>\n",
       "  </thead>\n",
       "  <tbody>\n",
       "    <tr>\n",
       "      <th>51776</th>\n",
       "      <td>47946</td>\n",
       "      <td>48741</td>\n",
       "      <td>Diesel</td>\n",
       "      <td>White</td>\n",
       "      <td>Adobe</td>\n",
       "      <td>4WD</td>\n",
       "      <td>Automatic</td>\n",
       "      <td>6.7 L</td>\n",
       "      <td>1FT7W2BT0FED16087</td>\n",
       "      <td>Used 2015 Ford F-250 King Ranch</td>\n",
       "      <td>3450 S 9th St, Salina, KS 67401</td>\n",
       "      <td>756449725</td>\n",
       "      <td>F-250</td>\n",
       "    </tr>\n",
       "    <tr>\n",
       "      <th>51777</th>\n",
       "      <td>56973</td>\n",
       "      <td>2</td>\n",
       "      <td>Diesel</td>\n",
       "      <td>Ruby Red</td>\n",
       "      <td>Medium Earth Gray</td>\n",
       "      <td>4WD</td>\n",
       "      <td>6-Speed Automatic</td>\n",
       "      <td>6.7L V8 32V DDI OHV Turbo Diesel</td>\n",
       "      <td>1FT7W2BT6KEC23391</td>\n",
       "      <td>New 2019 Ford F-250 XLT</td>\n",
       "      <td>2502 Cantrell Rd, Harrisonville, MO 64701</td>\n",
       "      <td>745041916</td>\n",
       "      <td>F-250</td>\n",
       "    </tr>\n",
       "    <tr>\n",
       "      <th>51780</th>\n",
       "      <td>19545</td>\n",
       "      <td>50376</td>\n",
       "      <td>E85 Flex Fuel</td>\n",
       "      <td>Oxford White</td>\n",
       "      <td>Steel</td>\n",
       "      <td>RWD</td>\n",
       "      <td>TorqShift 6-Speed Automatic</td>\n",
       "      <td>6.2L V8 EFI SOHC 16V Flex Fuel</td>\n",
       "      <td>1FDBF2A65DEB65326</td>\n",
       "      <td>Used 2013 Ford F-250 XL</td>\n",
       "      <td>2245 SW Topeka Blvd, Topeka, KS 66611</td>\n",
       "      <td>749747000</td>\n",
       "      <td>F-250</td>\n",
       "    </tr>\n",
       "    <tr>\n",
       "      <th>51781</th>\n",
       "      <td>58987</td>\n",
       "      <td>19189</td>\n",
       "      <td>Diesel</td>\n",
       "      <td>Ingot Silver Metallic</td>\n",
       "      <td>Black</td>\n",
       "      <td>4WD</td>\n",
       "      <td>TorqShift 6-Speed Automatic</td>\n",
       "      <td>Power Stroke 6.7L V8 DI 32V OHV Turbodiesel</td>\n",
       "      <td>1FT7W2BT9HEF37240</td>\n",
       "      <td>Used 2017 Ford F-250 Lariat</td>\n",
       "      <td>2245 SW Topeka Blvd, Topeka, KS 66611</td>\n",
       "      <td>756269741</td>\n",
       "      <td>F-250</td>\n",
       "    </tr>\n",
       "    <tr>\n",
       "      <th>51782</th>\n",
       "      <td>22987</td>\n",
       "      <td>106446</td>\n",
       "      <td>E85 Flex Fuel</td>\n",
       "      <td>Oxford White</td>\n",
       "      <td>Steel</td>\n",
       "      <td>4 WHEEL</td>\n",
       "      <td>AUTOMATIC</td>\n",
       "      <td>6.2L 8 CYL. FLEX FUEL</td>\n",
       "      <td>1FT7W2B69DEA17804</td>\n",
       "      <td>Used 2013 Ford F-250 XLT</td>\n",
       "      <td>1500 NW S Outer Rd, Blue Springs, MO 64015</td>\n",
       "      <td>756360809</td>\n",
       "      <td>F-250</td>\n",
       "    </tr>\n",
       "  </tbody>\n",
       "</table>\n",
       "</div>"
      ],
      "text/plain": [
       "       price   miles       fuel_type          exterior_color  \\\n",
       "51776  47946   48741          Diesel                   White   \n",
       "51777  56973       2          Diesel                Ruby Red   \n",
       "51780  19545   50376   E85 Flex Fuel            Oxford White   \n",
       "51781  58987   19189          Diesel   Ingot Silver Metallic   \n",
       "51782  22987  106446   E85 Flex Fuel            Oxford White   \n",
       "\n",
       "           interior_color drivetrain                  transmission  \\\n",
       "51776               Adobe        4WD                     Automatic   \n",
       "51777   Medium Earth Gray        4WD             6-Speed Automatic   \n",
       "51780               Steel        RWD   TorqShift 6-Speed Automatic   \n",
       "51781               Black        4WD   TorqShift 6-Speed Automatic   \n",
       "51782               Steel    4 WHEEL                     AUTOMATIC   \n",
       "\n",
       "                                             engine                 VIN  \\\n",
       "51776                                         6.7 L   1FT7W2BT0FED16087   \n",
       "51777              6.7L V8 32V DDI OHV Turbo Diesel   1FT7W2BT6KEC23391   \n",
       "51780                6.2L V8 EFI SOHC 16V Flex Fuel   1FDBF2A65DEB65326   \n",
       "51781   Power Stroke 6.7L V8 DI 32V OHV Turbodiesel   1FT7W2BT9HEF37240   \n",
       "51782                         6.2L 8 CYL. FLEX FUEL   1FT7W2B69DEA17804   \n",
       "\n",
       "                                  name  \\\n",
       "51776  Used 2015 Ford F-250 King Ranch   \n",
       "51777          New 2019 Ford F-250 XLT   \n",
       "51780          Used 2013 Ford F-250 XL   \n",
       "51781      Used 2017 Ford F-250 Lariat   \n",
       "51782         Used 2013 Ford F-250 XLT   \n",
       "\n",
       "                                    sellerAddress         id modelName  \n",
       "51776             3450 S 9th St, Salina, KS 67401  756449725     F-250  \n",
       "51777   2502 Cantrell Rd, Harrisonville, MO 64701  745041916     F-250  \n",
       "51780       2245 SW Topeka Blvd, Topeka, KS 66611  749747000     F-250  \n",
       "51781       2245 SW Topeka Blvd, Topeka, KS 66611  756269741     F-250  \n",
       "51782  1500 NW S Outer Rd, Blue Springs, MO 64015  756360809     F-250  "
      ]
     },
     "execution_count": 29,
     "metadata": {},
     "output_type": "execute_result"
    }
   ],
   "source": [
    "full_dataC.tail()"
   ]
  },
  {
   "cell_type": "code",
   "execution_count": 30,
   "metadata": {},
   "outputs": [
    {
     "data": {
      "image/png": "[encoded data removed]",
      "text/plain": [
       "<Figure size 640x480 with 1 Axes>"
      ]
     },
     "metadata": {},
     "output_type": "display_data"
    }
   ],
   "source": [
    "plt.scatter(full_dataC['miles'], full_dataC['price']) \n",
    "plt.xlabel('miles')\n",
    "plt.ylabel('price')\n",
    "pass"
   ]
  },
  {
   "cell_type": "markdown",
   "metadata": {},
   "source": [
    "Видим большие выбросы, не дающие адекватно рассмотреть диаграмму рассеивания от наших двух признаков, попробуем рассмотреть диаграмму на рандомной выборке для 1000 объектов"
   ]
  },
  {
   "cell_type": "code",
   "execution_count": 31,
   "metadata": {},
   "outputs": [
    {
     "data": {
      "text/plain": [
       "count     35113.000000\n",
       "mean      29347.996013\n",
       "std       15990.820816\n",
       "min         500.000000\n",
       "25%       17804.000000\n",
       "50%       25700.000000\n",
       "75%       38136.000000\n",
       "max      349900.000000\n",
       "Name: price, dtype: float64"
      ]
     },
     "execution_count": 31,
     "metadata": {},
     "output_type": "execute_result"
    }
   ],
   "source": [
    "full_dataC['price'].describe()\n"
   ]
  },
  {
   "cell_type": "code",
   "execution_count": 32,
   "metadata": {
    "scrolled": true
   },
   "outputs": [
    {
     "data": {
      "image/png": "[encoded data removed]",
      "text/plain": [
       "<Figure size 640x480 with 1 Axes>"
      ]
     },
     "metadata": {},
     "output_type": "display_data"
    }
   ],
   "source": [
    " np.random.seed(73)\n",
    "random_subset = np.random.choice(np.arange(full_dataC.shape[0]), size=1000, replace=False)\n",
    "\n",
    "plt.scatter(full_dataC.iloc[random_subset]['miles'], full_dataC.iloc[random_subset]['price'], alpha=0.4)\n",
    "plt.xlabel('miles')\n",
    "plt.ylabel('price')\n",
    "pass"
   ]
  },
  {
   "cell_type": "markdown",
   "metadata": {},
   "source": [
    "**Обработка выбросов**"
   ]
  },
  {
   "cell_type": "markdown",
   "metadata": {},
   "source": [
    "Для обнаружения выбросов найдем, квантили для признаков miles и price"
   ]
  },
  {
   "cell_type": "code",
   "execution_count": 46,
   "metadata": {
    "scrolled": true
   },
   "outputs": [
    {
     "data": {
      "text/plain": [
       "0.005     3495.00\n",
       "0.010     4497.00\n",
       "0.050     8995.00\n",
       "0.080    11404.96\n",
       "0.090    11995.00\n",
       "0.100    12591.40\n",
       "0.500    25700.00\n",
       "0.900    50738.00\n",
       "0.950    60915.00\n",
       "0.990    75119.36\n",
       "0.995    79607.00\n",
       "Name: price, dtype: float64"
      ]
     },
     "execution_count": 46,
     "metadata": {},
     "output_type": "execute_result"
    }
   ],
   "source": [
    "full_dataC['price'].quantile([0.005,.01,.05,.080,.09,.1,.5,.9,.95,.99,.995])"
   ]
  },
  {
   "cell_type": "code",
   "execution_count": 45,
   "metadata": {},
   "outputs": [
    {
     "data": {
      "text/plain": [
       "349900.0"
      ]
     },
     "execution_count": 45,
     "metadata": {},
     "output_type": "execute_result"
    }
   ],
   "source": [
    "full_dataC['price'].max()"
   ]
  },
  {
   "cell_type": "code",
   "execution_count": 47,
   "metadata": {},
   "outputs": [
    {
     "data": {
      "text/plain": [
       "0.005         1.00\n",
       "0.010         1.00\n",
       "0.050         2.00\n",
       "0.080         3.00\n",
       "0.090         3.00\n",
       "0.100         3.00\n",
       "0.500        56.00\n",
       "0.900     81585.20\n",
       "0.950    115743.60\n",
       "0.990    180788.64\n",
       "0.995    203465.76\n",
       "Name: miles, dtype: float64"
      ]
     },
     "execution_count": 47,
     "metadata": {},
     "output_type": "execute_result"
    }
   ],
   "source": [
    "full_dataC['miles'].quantile([0.005,.01,.05,.080,.09,.1,.5,.9,.95,.99,.995])"
   ]
  },
  {
   "cell_type": "code",
   "execution_count": 36,
   "metadata": {},
   "outputs": [
    {
     "data": {
      "text/plain": [
       "856765"
      ]
     },
     "execution_count": 36,
     "metadata": {},
     "output_type": "execute_result"
    }
   ],
   "source": [
    "full_dataC['miles'].max()"
   ]
  },
  {
   "cell_type": "markdown",
   "metadata": {},
   "source": [
    "Создадим новую переменную clear_data - куда занесем только очищенные данные"
   ]
  },
  {
   "cell_type": "code",
   "execution_count": 63,
   "metadata": {},
   "outputs": [],
   "source": [
    "x=full_dataC['price'].to_numpy()"
   ]
  },
  {
   "cell_type": "code",
   "execution_count": 64,
   "metadata": {},
   "outputs": [
    {
     "data": {
      "text/plain": [
       "array([25290., 12988., 25995., ..., 19545., 58987., 22987.], dtype=float32)"
      ]
     },
     "execution_count": 64,
     "metadata": {},
     "output_type": "execute_result"
    }
   ],
   "source": [
    "x"
   ]
  },
  {
   "cell_type": "code",
   "execution_count": 107,
   "metadata": {},
   "outputs": [
    {
     "data": {
      "text/plain": [
       "(17220, 13)"
      ]
     },
     "execution_count": 107,
     "metadata": {},
     "output_type": "execute_result"
    }
   ],
   "source": [
    "rows_to_drop = full_dataC[\n",
    "    (full_dataC['price'] < full_dataC['price'].quantile(0.005)) | (full_dataC['price'] > full_dataC['price'].quantile(0.995)) | \n",
    "    (full_dataC['miles']  < full_dataC['miles'].quantile(0.500)) | (full_dataC['miles']  > full_dataC['miles'].quantile(0.995))].index\n",
    "clear_data = full_dataC.drop(rows_to_drop)\n",
    "\n",
    "\n",
    "clear_data.shape"
   ]
  },
  {
   "cell_type": "markdown",
   "metadata": {},
   "source": [
    "Построим все возможные диаграммы рассеивания для каждой пары переменных, на небольшой выборке:"
   ]
  },
  {
   "cell_type": "code",
   "execution_count": 66,
   "metadata": {},
   "outputs": [
    {
     "data": {
      "image/png": "[encoded data removed]",
      "text/plain": [
       "<Figure size 896.375x750 with 12 Axes>"
      ]
     },
     "metadata": {},
     "output_type": "display_data"
    }
   ],
   "source": [
    "np.random.seed(73)\n",
    "random_subset = np.random.choice(np.arange(full_dataC.shape[0]), size=10000, replace=False)\n",
    "sns.pairplot(full_dataC.iloc[random_subset], hue='fuel_type', diag_kind='hist')\n",
    "plt.legend()\n",
    "pass"
   ]
  },
  {
   "cell_type": "markdown",
   "metadata": {},
   "source": [
    "Гистограммы можно построить отдельно. Построить гистограмму можно с помощью функции plt.hist, но мы воспользуемся distplot из библиотеки seaborn."
   ]
  },
  {
   "cell_type": "code",
   "execution_count": 109,
   "metadata": {},
   "outputs": [
    {
     "data": {
      "image/png": "[encoded data removed]",
      "text/plain": [
       "<Figure size 640x480 with 1 Axes>"
      ]
     },
     "metadata": {},
     "output_type": "display_data"
    }
   ],
   "source": [
    "sns.distplot(clear_data['price'], bins=20)\n",
    "plt.grid()\n",
    "pass"
   ]
  },
  {
   "cell_type": "code",
   "execution_count": 108,
   "metadata": {},
   "outputs": [
    {
     "data": {
      "image/png": "[encoded data removed]",
      "text/plain": [
       "<Figure size 640x480 with 1 Axes>"
      ]
     },
     "metadata": {},
     "output_type": "display_data"
    }
   ],
   "source": [
    "sns.distplot(clear_data['miles'], bins=20)\n",
    "plt.grid()\n",
    "pass"
   ]
  },
  {
   "cell_type": "markdown",
   "metadata": {},
   "source": [
    "**Количественные признаки**"
   ]
  },
  {
   "cell_type": "markdown",
   "metadata": {},
   "source": [
    "Для более полного анализа данных, построим кореляционную матрицу и оценим степень зависимости количественных признаков друг от друга"
   ]
  },
  {
   "cell_type": "code",
   "execution_count": 74,
   "metadata": {},
   "outputs": [
    {
     "data": {
      "text/html": [
       "<div>\n",
       "<style scoped>\n",
       "    .dataframe tbody tr th:only-of-type {\n",
       "        vertical-align: middle;\n",
       "    }\n",
       "\n",
       "    .dataframe tbody tr th {\n",
       "        vertical-align: top;\n",
       "    }\n",
       "\n",
       "    .dataframe thead th {\n",
       "        text-align: right;\n",
       "    }\n",
       "</style>\n",
       "<table border=\"1\" class=\"dataframe\">\n",
       "  <thead>\n",
       "    <tr style=\"text-align: right;\">\n",
       "      <th></th>\n",
       "      <th>price</th>\n",
       "      <th>miles</th>\n",
       "      <th>id</th>\n",
       "    </tr>\n",
       "  </thead>\n",
       "  <tbody>\n",
       "    <tr>\n",
       "      <th>price</th>\n",
       "      <td>1.000000</td>\n",
       "      <td>-0.471903</td>\n",
       "      <td>0.033061</td>\n",
       "    </tr>\n",
       "    <tr>\n",
       "      <th>miles</th>\n",
       "      <td>-0.471903</td>\n",
       "      <td>1.000000</td>\n",
       "      <td>0.099899</td>\n",
       "    </tr>\n",
       "    <tr>\n",
       "      <th>id</th>\n",
       "      <td>0.033061</td>\n",
       "      <td>0.099899</td>\n",
       "      <td>1.000000</td>\n",
       "    </tr>\n",
       "  </tbody>\n",
       "</table>\n",
       "</div>"
      ],
      "text/plain": [
       "          price     miles        id\n",
       "price  1.000000 -0.471903  0.033061\n",
       "miles -0.471903  1.000000  0.099899\n",
       "id     0.033061  0.099899  1.000000"
      ]
     },
     "execution_count": 74,
     "metadata": {},
     "output_type": "execute_result"
    }
   ],
   "source": [
    "corr_mat = full_dataC.corr()\n",
    "corr_mat"
   ]
  },
  {
   "cell_type": "code",
   "execution_count": 75,
   "metadata": {},
   "outputs": [
    {
     "data": {
      "image/png": "[encoded data removed]",
      "text/plain": [
       "<Figure size 640x480 with 2 Axes>"
      ]
     },
     "metadata": {},
     "output_type": "display_data"
    }
   ],
   "source": [
    "sns.heatmap(corr_mat, square=True, cmap='seismic', annot = True, vmin=-1, vmax=1, center= 0)\n",
    "pass"
   ]
  },
  {
   "cell_type": "code",
   "execution_count": 76,
   "metadata": {},
   "outputs": [
    {
     "data": {
      "text/plain": [
       "price  miles   -0.471903\n",
       "dtype: float64"
      ]
     },
     "execution_count": 76,
     "metadata": {},
     "output_type": "execute_result"
    }
   ],
   "source": [
    "corr_mat.where(np.triu(corr_mat > 0.2, k=1) | np.triu(corr_mat < -0.2, k=1)).stack().sort_values(ascending=False)"
   ]
  },
  {
   "cell_type": "markdown",
   "metadata": {},
   "source": [
    "Корреляция наблюдается у 2-х пар признаков: price и miles"
   ]
  },
  {
   "cell_type": "markdown",
   "metadata": {},
   "source": [
    "**Обработка категореальных признаков**"
   ]
  },
  {
   "cell_type": "code",
   "execution_count": 83,
   "metadata": {},
   "outputs": [],
   "source": [
    "import copy\n",
    "predict_data = copy.deepcopy(full_dataC)"
   ]
  },
  {
   "cell_type": "code",
   "execution_count": 85,
   "metadata": {},
   "outputs": [
    {
     "data": {
      "text/html": [
       "<div>\n",
       "<style scoped>\n",
       "    .dataframe tbody tr th:only-of-type {\n",
       "        vertical-align: middle;\n",
       "    }\n",
       "\n",
       "    .dataframe tbody tr th {\n",
       "        vertical-align: top;\n",
       "    }\n",
       "\n",
       "    .dataframe thead th {\n",
       "        text-align: right;\n",
       "    }\n",
       "</style>\n",
       "<table border=\"1\" class=\"dataframe\">\n",
       "  <thead>\n",
       "    <tr style=\"text-align: right;\">\n",
       "      <th></th>\n",
       "      <th>price</th>\n",
       "      <th>miles</th>\n",
       "      <th>fuel_type</th>\n",
       "      <th>exterior_color</th>\n",
       "      <th>interior_color</th>\n",
       "      <th>drivetrain</th>\n",
       "      <th>transmission</th>\n",
       "      <th>engine</th>\n",
       "      <th>VIN</th>\n",
       "      <th>name</th>\n",
       "      <th>sellerAddress</th>\n",
       "      <th>id</th>\n",
       "      <th>modelName</th>\n",
       "    </tr>\n",
       "  </thead>\n",
       "  <tbody>\n",
       "    <tr>\n",
       "      <th>51776</th>\n",
       "      <td>47946.0</td>\n",
       "      <td>48741.0</td>\n",
       "      <td>Diesel</td>\n",
       "      <td>White</td>\n",
       "      <td>Adobe</td>\n",
       "      <td>4WD</td>\n",
       "      <td>Automatic</td>\n",
       "      <td>6.7 L</td>\n",
       "      <td>1FT7W2BT0FED16087</td>\n",
       "      <td>Used 2015 Ford F-250 King Ranch</td>\n",
       "      <td>3450 S 9th St, Salina, KS 67401</td>\n",
       "      <td>756449725</td>\n",
       "      <td>F-250</td>\n",
       "    </tr>\n",
       "    <tr>\n",
       "      <th>51777</th>\n",
       "      <td>56973.0</td>\n",
       "      <td>2.0</td>\n",
       "      <td>Diesel</td>\n",
       "      <td>Ruby Red</td>\n",
       "      <td>Medium Earth Gray</td>\n",
       "      <td>4WD</td>\n",
       "      <td>6-Speed Automatic</td>\n",
       "      <td>6.7L V8 32V DDI OHV Turbo Diesel</td>\n",
       "      <td>1FT7W2BT6KEC23391</td>\n",
       "      <td>New 2019 Ford F-250 XLT</td>\n",
       "      <td>2502 Cantrell Rd, Harrisonville, MO 64701</td>\n",
       "      <td>745041916</td>\n",
       "      <td>F-250</td>\n",
       "    </tr>\n",
       "    <tr>\n",
       "      <th>51780</th>\n",
       "      <td>19545.0</td>\n",
       "      <td>50376.0</td>\n",
       "      <td>E85 Flex Fuel</td>\n",
       "      <td>Oxford White</td>\n",
       "      <td>Steel</td>\n",
       "      <td>RWD</td>\n",
       "      <td>TorqShift 6-Speed Automatic</td>\n",
       "      <td>6.2L V8 EFI SOHC 16V Flex Fuel</td>\n",
       "      <td>1FDBF2A65DEB65326</td>\n",
       "      <td>Used 2013 Ford F-250 XL</td>\n",
       "      <td>2245 SW Topeka Blvd, Topeka, KS 66611</td>\n",
       "      <td>749747000</td>\n",
       "      <td>F-250</td>\n",
       "    </tr>\n",
       "    <tr>\n",
       "      <th>51781</th>\n",
       "      <td>58987.0</td>\n",
       "      <td>19189.0</td>\n",
       "      <td>Diesel</td>\n",
       "      <td>Ingot Silver Metallic</td>\n",
       "      <td>Black</td>\n",
       "      <td>4WD</td>\n",
       "      <td>TorqShift 6-Speed Automatic</td>\n",
       "      <td>Power Stroke 6.7L V8 DI 32V OHV Turbodiesel</td>\n",
       "      <td>1FT7W2BT9HEF37240</td>\n",
       "      <td>Used 2017 Ford F-250 Lariat</td>\n",
       "      <td>2245 SW Topeka Blvd, Topeka, KS 66611</td>\n",
       "      <td>756269741</td>\n",
       "      <td>F-250</td>\n",
       "    </tr>\n",
       "    <tr>\n",
       "      <th>51782</th>\n",
       "      <td>22987.0</td>\n",
       "      <td>106446.0</td>\n",
       "      <td>E85 Flex Fuel</td>\n",
       "      <td>Oxford White</td>\n",
       "      <td>Steel</td>\n",
       "      <td>4 WHEEL</td>\n",
       "      <td>AUTOMATIC</td>\n",
       "      <td>6.2L 8 CYL. FLEX FUEL</td>\n",
       "      <td>1FT7W2B69DEA17804</td>\n",
       "      <td>Used 2013 Ford F-250 XLT</td>\n",
       "      <td>1500 NW S Outer Rd, Blue Springs, MO 64015</td>\n",
       "      <td>756360809</td>\n",
       "      <td>F-250</td>\n",
       "    </tr>\n",
       "  </tbody>\n",
       "</table>\n",
       "</div>"
      ],
      "text/plain": [
       "         price     miles       fuel_type          exterior_color  \\\n",
       "51776  47946.0   48741.0          Diesel                   White   \n",
       "51777  56973.0       2.0          Diesel                Ruby Red   \n",
       "51780  19545.0   50376.0   E85 Flex Fuel            Oxford White   \n",
       "51781  58987.0   19189.0          Diesel   Ingot Silver Metallic   \n",
       "51782  22987.0  106446.0   E85 Flex Fuel            Oxford White   \n",
       "\n",
       "           interior_color drivetrain                  transmission  \\\n",
       "51776               Adobe        4WD                     Automatic   \n",
       "51777   Medium Earth Gray        4WD             6-Speed Automatic   \n",
       "51780               Steel        RWD   TorqShift 6-Speed Automatic   \n",
       "51781               Black        4WD   TorqShift 6-Speed Automatic   \n",
       "51782               Steel    4 WHEEL                     AUTOMATIC   \n",
       "\n",
       "                                             engine                 VIN  \\\n",
       "51776                                         6.7 L   1FT7W2BT0FED16087   \n",
       "51777              6.7L V8 32V DDI OHV Turbo Diesel   1FT7W2BT6KEC23391   \n",
       "51780                6.2L V8 EFI SOHC 16V Flex Fuel   1FDBF2A65DEB65326   \n",
       "51781   Power Stroke 6.7L V8 DI 32V OHV Turbodiesel   1FT7W2BT9HEF37240   \n",
       "51782                         6.2L 8 CYL. FLEX FUEL   1FT7W2B69DEA17804   \n",
       "\n",
       "                                  name  \\\n",
       "51776  Used 2015 Ford F-250 King Ranch   \n",
       "51777          New 2019 Ford F-250 XLT   \n",
       "51780          Used 2013 Ford F-250 XL   \n",
       "51781      Used 2017 Ford F-250 Lariat   \n",
       "51782         Used 2013 Ford F-250 XLT   \n",
       "\n",
       "                                    sellerAddress         id modelName  \n",
       "51776             3450 S 9th St, Salina, KS 67401  756449725     F-250  \n",
       "51777   2502 Cantrell Rd, Harrisonville, MO 64701  745041916     F-250  \n",
       "51780       2245 SW Topeka Blvd, Topeka, KS 66611  749747000     F-250  \n",
       "51781       2245 SW Topeka Blvd, Topeka, KS 66611  756269741     F-250  \n",
       "51782  1500 NW S Outer Rd, Blue Springs, MO 64015  756360809     F-250  "
      ]
     },
     "execution_count": 85,
     "metadata": {},
     "output_type": "execute_result"
    }
   ],
   "source": [
    "full_dataC.tail()"
   ]
  },
  {
   "cell_type": "code",
   "execution_count": 87,
   "metadata": {},
   "outputs": [
    {
     "data": {
      "text/plain": [
       " Gasoline                  26777\n",
       " E85 Flex Fuel              4981\n",
       " Diesel                     2392\n",
       " Hybrid                      899\n",
       " Unknown                      41\n",
       " Electric                     22\n",
       " Compressed Natural Gas        1\n",
       "Name: fuel_type, dtype: int64"
      ]
     },
     "execution_count": 87,
     "metadata": {},
     "output_type": "execute_result"
    }
   ],
   "source": [
    "predict_data['fuel_type'].value_counts()"
   ]
  },
  {
   "cell_type": "code",
   "execution_count": 90,
   "metadata": {},
   "outputs": [
    {
     "data": {
      "text/plain": [
       " Shadow Black                                                       4098\n",
       " Oxford White                                                       3751\n",
       " White                                                              1838\n",
       " Magnetic                                                           1706\n",
       " Magnetic Metallic                                                  1592\n",
       "                                                                    ... \n",
       " White (Super Low Miles Only 79,200 Miles & Anniversary Edition)       1\n",
       " Phantom Gray                                                          1\n",
       " Violet Grey Metallic                                                  1\n",
       " Blue Candy Metallic Tinted                                            1\n",
       " Crystal Metallic                                                      1\n",
       "Name: exterior_color, Length: 843, dtype: int64"
      ]
     },
     "execution_count": 90,
     "metadata": {},
     "output_type": "execute_result"
    }
   ],
   "source": [
    "predict_data['exterior_color'].value_counts()"
   ]
  },
  {
   "cell_type": "code",
   "execution_count": 92,
   "metadata": {},
   "outputs": [
    {
     "data": {
      "text/plain": [
       "4501 South 4th Trafficway, Leavenworth, KS 66048    618\n",
       "900 Bernadette Dr, Columbia, MO 65203               515\n",
       "9401 N Milwaukee Ave, Niles, IL 60714               467\n",
       "2303 W. Beltline Highway, Madison, WI 53713         367\n",
       "9423 W Lincoln Hwy, Frankfort, IL 60423             326\n",
       "                                                   ... \n",
       "7980 Wallace Rd, Eden Prairie, MN 55344               1\n",
       "2490 W Maplewood Dr, Maplewood, MN 55109              1\n",
       "1385 East Chicago Street, Elgin, IL 60120             1\n",
       "1765 Park Ave, Plover, WI 54467                       1\n",
       "4000 N Frontage Rd, Sheboygan, WI 53081               1\n",
       "Name: sellerAddress, Length: 1927, dtype: int64"
      ]
     },
     "execution_count": 92,
     "metadata": {},
     "output_type": "execute_result"
    }
   ],
   "source": [
    "predict_data['sellerAddress'].value_counts()"
   ]
  },
  {
   "cell_type": "code",
   "execution_count": 94,
   "metadata": {},
   "outputs": [
    {
     "data": {
      "text/plain": [
       "New 2018 Ford F-150 XLT                                                 1538\n",
       "New 2018 Ford Focus SE                                                  1173\n",
       "New 2018 Ford EcoSport SE                                                935\n",
       "New 2018 Ford Explorer XLT                                               667\n",
       "New 2018 Ford Escape SE                                                  579\n",
       "                                                                        ... \n",
       "Used 2003 Ford E350 Super Duty HANDICAP WHEEL CHAIR VAN MOBILITY VAN       1\n",
       "Used 2009 Ford F-250 Harley-Davidson                                       1\n",
       "New 2017 Chevrolet 4500XD                                                  1\n",
       "New 2016 Ford Taurus Limited                                               1\n",
       "Certified 2017 Lexus GX 460 Premium                                        1\n",
       "Name: name, Length: 2445, dtype: int64"
      ]
     },
     "execution_count": 94,
     "metadata": {},
     "output_type": "execute_result"
    }
   ],
   "source": [
    "predict_data['name'].value_counts()"
   ]
  },
  {
   "cell_type": "code",
   "execution_count": 96,
   "metadata": {},
   "outputs": [
    {
     "data": {
      "text/plain": [
       " 4WD                    12716\n",
       " FWD                    11952\n",
       " RWD                     4424\n",
       " AWD                     4007\n",
       " Four Wheel Drive         468\n",
       " Front Wheel Drive        436\n",
       " 4X4                      237\n",
       " Rear Wheel Drive         168\n",
       " All Wheel Drive          131\n",
       " 4WD/AWD                   89\n",
       " 2WD                       87\n",
       " 4x4                       56\n",
       " FOUR WHEEL DRIVE          48\n",
       " Front-wheel Drive         40\n",
       " Front                     34\n",
       " FRONT WHEEL DRIVE         34\n",
       " Automatic 6-Speed         31\n",
       " FRONT WHEEL               17\n",
       " ALL WHEEL DRIVE           16\n",
       " 4 WHEEL                   14\n",
       " REAR WHEEL DRIVE          13\n",
       " 4X2                       12\n",
       " 4x2                        9\n",
       " 4MATIC?                    8\n",
       " Rear-wheel Drive           8\n",
       " Automatic 4-Speed          5\n",
       " ALL WHEEL                  5\n",
       " REAR WHEEL                 5\n",
       " All-wheel Drive            5\n",
       " Rear                       4\n",
       " Manual 5-Speed             3\n",
       " quattro                    3\n",
       " Automatic 5-Speed          3\n",
       " CVT                        3\n",
       " Other                      3\n",
       " 2WD/FWD                    2\n",
       " REAR-WHEEL DRIVE           2\n",
       " posi                       1\n",
       " 4x4/4WD                    1\n",
       " 4MATIC                     1\n",
       " N A                        1\n",
       " ALL-WHEEL DRIVE            1\n",
       " 8 3/4 posi                 1\n",
       " Manual 4-Speed             1\n",
       " N/A                        1\n",
       " SH-AWD                     1\n",
       " A                          1\n",
       " 4-Wheel Drive              1\n",
       " Manual                     1\n",
       " Unspecified                1\n",
       " NOT SPECIFIED              1\n",
       " AWD/All-Wheel Drive        1\n",
       "Name: drivetrain, dtype: int64"
      ]
     },
     "execution_count": 96,
     "metadata": {},
     "output_type": "execute_result"
    }
   ],
   "source": [
    "predict_data['drivetrain'].value_counts()"
   ]
  },
  {
   "cell_type": "code",
   "execution_count": 98,
   "metadata": {},
   "outputs": [
    {
     "data": {
      "text/plain": [
       " 6-Speed Automatic                       14929\n",
       " Automatic                                4028\n",
       " 6-Speed Automatic w/OD                   2819\n",
       " 10-Speed Automatic                       2477\n",
       " 6-Speed Automatic with Auto-Shift        1291\n",
       "                                         ...  \n",
       " 6-SPEED AUTOMATIC W/OD & SELECTSHIFT        1\n",
       " 44A                                         1\n",
       " Manual 4-Speed                              1\n",
       " 3-Speed A/T                                 1\n",
       " Manual 10-Speed                             1\n",
       "Name: transmission, Length: 228, dtype: int64"
      ]
     },
     "execution_count": 98,
     "metadata": {},
     "output_type": "execute_result"
    }
   ],
   "source": [
    "predict_data['transmission'].value_counts()"
   ]
  },
  {
   "cell_type": "code",
   "execution_count": 100,
   "metadata": {},
   "outputs": [
    {
     "data": {
      "text/plain": [
       " 3.5L V6 24V MPFI DOHC              2135\n",
       " 3.5L V6 24V GDI DOHC Twin Turbo    1555\n",
       " 2.0L I4 16V GDI DOHC               1508\n",
       " 2.0L I4 16V GDI DOHC Turbo         1476\n",
       " 1.5L I4 16V GDI DOHC Turbo         1457\n",
       "                                    ... \n",
       " V8, 3.9L;                             1\n",
       " 6.0L V8 Diesel                        1\n",
       " V6, Flex Fuel, 4.0 Liter              1\n",
       " Gas V6 4.3L/                          1\n",
       " 2.0L Engine-Turbocharged              1\n",
       "Name: engine, Length: 1125, dtype: int64"
      ]
     },
     "execution_count": 100,
     "metadata": {},
     "output_type": "execute_result"
    }
   ],
   "source": [
    "predict_data['engine'].value_counts()"
   ]
  },
  {
   "cell_type": "code",
   "execution_count": 102,
   "metadata": {},
   "outputs": [
    {
     "data": {
      "text/plain": [
       " Charcoal Black                                          7141\n",
       " Ebony                                                   6245\n",
       " Black                                                   4454\n",
       " Ebony Black                                             2800\n",
       " Medium Earth Gray                                       2214\n",
       "                                                         ... \n",
       " Linen                                                      1\n",
       " Cb Cloth Charcoal                                          1\n",
       " Plat Black Leather 40/Cnsl/40 Black                        1\n",
       " Ebony Black/Copper Insert Leat                             1\n",
       " Activex Seating Material Medium Light Stone Interior       1\n",
       "Name: interior_color, Length: 1044, dtype: int64"
      ]
     },
     "execution_count": 102,
     "metadata": {},
     "output_type": "execute_result"
    }
   ],
   "source": [
    "predict_data['interior_color'].value_counts()"
   ]
  },
  {
   "cell_type": "code",
   "execution_count": 104,
   "metadata": {},
   "outputs": [
    {
     "data": {
      "text/plain": [
       "F-150                       3566\n",
       "Escape                      3146\n",
       "Explorer                    3084\n",
       "Edge                        2836\n",
       "Focus                       2808\n",
       "Fusion                      2792\n",
       "F-250                       2047\n",
       "Mustang                     1948\n",
       "EcoSport                    1659\n",
       "Taurus                      1507\n",
       "F-350                       1109\n",
       "Expedition                  1101\n",
       "Model Unknown               1004\n",
       "Fiesta                       928\n",
       "Transit Connect              866\n",
       "Transit-250                  750\n",
       "Flex                         728\n",
       "Fusion Hybrid                567\n",
       "Transit-350                  465\n",
       "Expedition Max               459\n",
       "Expedition EL                327\n",
       "Transit-150                  228\n",
       "Ranger                       195\n",
       "Focus ST                     146\n",
       "C-Max Hybrid                 117\n",
       "Fusion Energi                 95\n",
       "C-Max Energi                  93\n",
       "Shelby GT350                  91\n",
       "E350 Super Duty               87\n",
       "Explorer Sport Trac           62\n",
       "Thunderbird                   60\n",
       "E250                          50\n",
       "Excursion                     45\n",
       "Crown Victoria                34\n",
       "E150                          25\n",
       "Sedan Police Interceptor      23\n",
       "Freestar                      21\n",
       "Five Hundred                  20\n",
       "Freestyle                     19\n",
       "E350                           5\n",
       "Name: modelName, dtype: int64"
      ]
     },
     "execution_count": 104,
     "metadata": {},
     "output_type": "execute_result"
    }
   ],
   "source": [
    "predict_data['modelName'].value_counts()"
   ]
  },
  {
   "cell_type": "code",
   "execution_count": 106,
   "metadata": {},
   "outputs": [
    {
     "data": {
      "image/png": "[encoded data removed]",
      "text/plain": [
       "<Figure size 640x480 with 1 Axes>"
      ]
     },
     "metadata": {},
     "output_type": "display_data"
    }
   ],
   "source": [
    "sns.countplot(x='modelName', order=clear_data['modelName'].value_counts().index, hue='fuel_type', data=clear_data)\n",
    "pass"
   ]
  }
 ],
 "metadata": {
  "kernelspec": {
   "display_name": "Python 3",
   "language": "python",
   "name": "python3"
  },
  "language_info": {
   "codemirror_mode": {
    "name": "ipython",
    "version": 3
   },
   "file_extension": ".py",
   "mimetype": "text/x-python",
   "name": "python",
   "nbconvert_exporter": "python",
   "pygments_lexer": "ipython3",
   "version": "3.8.3"
  }
 },
 "nbformat": 4,
 "nbformat_minor": 4
}
